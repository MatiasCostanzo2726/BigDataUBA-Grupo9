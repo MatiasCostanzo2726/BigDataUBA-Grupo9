{
  "cells": [
    {
      "cell_type": "markdown",
      "metadata": {
        "collapsed": true,
        "id": "Dh8MkXaG-c9Y",
        "jupyter": {
          "outputs_hidden": true
        }
      },
      "source": [
        "# Big Data y Machine Learning (UBA) -  2025\n",
        "\n",
        "## Trabajo Práctico 1: Jugando con APIs y WebScraping"
      ]
    },
    {
      "cell_type": "markdown",
      "metadata": {
        "id": "RhBlm6mZ-c9e"
      },
      "source": [
        "### Reglas de formato y presentación\n",
        "- El trabajo debe estar debidamente documentado comentado (utilizando #) para que tanto los docentes como sus compañeros puedan comprender el código fácilmente.\n",
        "\n",
        "- El mismo debe ser completado en este Jupyter Notebook y entregado como tal, es decir en un archivo .ipynb\n"
      ]
    },
    {
      "cell_type": "markdown",
      "metadata": {
        "id": "ZEjGaa4U-c9g"
      },
      "source": [
        "### Fecha de entrega:\n",
        "Viernes 4 de Abril a las 13:00 hs"
      ]
    },
    {
      "cell_type": "markdown",
      "metadata": {
        "id": "N9TU2y7E-c9h"
      },
      "source": [
        "### Modalidad de entrega\n",
        "- Al finalizar el trabajo práctico deben hacer un último <i>commit</i> en su repositorio de GitHub llamado “Entrega final del tp”.\n",
        "- Asegurense de haber creado una carpeta llamada TP1. Este Jupyter Notebook y el correspondiente al TP1 deben estar dentro de esa carpeta.\n",
        "- También deben enviar el link de su repositorio -para que pueda ser clonado y corregido- a mi correo 25RO35480961@campus.economicas.uba.ar. Usar de asunto de email <i>\"Big Data - TP 1 - Grupo #\"</i> y nombrar el archivo <i>\"TP1_Grupo #\"</i> donde # es el número de grupo que le fue asignado.\n",
        "- La última versión en el repositorio es la que será evaluada. Por lo que es importante que:\n",
        "    - No envien el correo hasta no haber terminado y estar seguros de que han hecho el <i>commit y push</i> a la versión final que quieren entregar.\n",
        "    - No hagan nuevos <i>push</i> despues de haber entregado su versión final. Esto generaría confusión acerca de que versión es la que quieren que se les corrija.\n",
        "- En resumen, la carpeta del repositorio debe incluir:\n",
        "    - El codigo\n",
        "    - Un documento Word (Parte A) donde esten las figuras y una breve descripción de las mismas.\n",
        "    - El excel con los links webscrappeados (Parte B)"
      ]
    },
    {
      "cell_type": "markdown",
      "metadata": {
        "id": "vFM9zqBAjvm2"
      },
      "source": [
        "### Parte A"
      ]
    },
    {
      "cell_type": "markdown",
      "metadata": {
        "id": "ZXbrPraa-c9i"
      },
      "source": [
        "#### Ejercicio 1 - Jugando con APIs\n",
        "Usando la API del Banco Mundial [link](https://wbdata.readthedocs.io/en/stable/) , obtener dos series de indicadores para dos paises a elección en una consulta de búsqueda. Pueden buscar serie de indicadores de su interés."
      ]
    },
    {
      "cell_type": "code",
      "execution_count": 75,
      "metadata": {
        "id": "KCjKzHkIjvm5"
      },
      "outputs": [],
      "source": [
        "import sys"
      ]
    },
    {
      "cell_type": "code",
      "execution_count": null,
      "metadata": {
        "collapsed": true,
        "jupyter": {
          "outputs_hidden": true
        },
        "id": "-2P7OPA8jvm_"
      },
      "outputs": [],
      "source": [
        "!pip3 install -U wbdata"
      ]
    },
    {
      "cell_type": "code",
      "execution_count": 77,
      "metadata": {
        "id": "LTf_RpbHjvnB"
      },
      "outputs": [],
      "source": [
        "import wbdata\n",
        "import pandas as pd\n"
      ]
    },
    {
      "cell_type": "code",
      "execution_count": null,
      "metadata": {
        "collapsed": true,
        "jupyter": {
          "outputs_hidden": true
        },
        "id": "RyDnCksyjvnC"
      },
      "outputs": [],
      "source": [
        "wbdata.get_sources()\n",
        "wbdata.get_indicators(source=14)"
      ]
    },
    {
      "cell_type": "code",
      "execution_count": 79,
      "metadata": {
        "collapsed": true,
        "colab": {
          "base_uri": "https://localhost:8080/",
          "height": 206
        },
        "id": "8MLY5fUFjvnD",
        "outputId": "f7863256-7b1e-4d0f-ada1-34a39f9361f6"
      },
      "outputs": [
        {
          "output_type": "execute_result",
          "data": {
            "text/plain": [
              "                Poblacion_masculina  poblacion_femenina\n",
              "country   date                                         \n",
              "Argentina 2023           22596984.0          22941417.0\n",
              "          2022           22527129.0          22880775.0\n",
              "Brazil    2023          103913061.0         107227668.0\n",
              "          2022          103548935.0         106757480.0"
            ],
            "text/html": [
              "\n",
              "  <div id=\"df-4f5e8720-97c1-4418-bbf7-9098af60572a\" class=\"colab-df-container\">\n",
              "    <div>\n",
              "<style scoped>\n",
              "    .dataframe tbody tr th:only-of-type {\n",
              "        vertical-align: middle;\n",
              "    }\n",
              "\n",
              "    .dataframe tbody tr th {\n",
              "        vertical-align: top;\n",
              "    }\n",
              "\n",
              "    .dataframe thead th {\n",
              "        text-align: right;\n",
              "    }\n",
              "</style>\n",
              "<table border=\"1\" class=\"dataframe\">\n",
              "  <thead>\n",
              "    <tr style=\"text-align: right;\">\n",
              "      <th></th>\n",
              "      <th></th>\n",
              "      <th>Poblacion_masculina</th>\n",
              "      <th>poblacion_femenina</th>\n",
              "    </tr>\n",
              "    <tr>\n",
              "      <th>country</th>\n",
              "      <th>date</th>\n",
              "      <th></th>\n",
              "      <th></th>\n",
              "    </tr>\n",
              "  </thead>\n",
              "  <tbody>\n",
              "    <tr>\n",
              "      <th rowspan=\"2\" valign=\"top\">Argentina</th>\n",
              "      <th>2023</th>\n",
              "      <td>22596984.0</td>\n",
              "      <td>22941417.0</td>\n",
              "    </tr>\n",
              "    <tr>\n",
              "      <th>2022</th>\n",
              "      <td>22527129.0</td>\n",
              "      <td>22880775.0</td>\n",
              "    </tr>\n",
              "    <tr>\n",
              "      <th rowspan=\"2\" valign=\"top\">Brazil</th>\n",
              "      <th>2023</th>\n",
              "      <td>103913061.0</td>\n",
              "      <td>107227668.0</td>\n",
              "    </tr>\n",
              "    <tr>\n",
              "      <th>2022</th>\n",
              "      <td>103548935.0</td>\n",
              "      <td>106757480.0</td>\n",
              "    </tr>\n",
              "  </tbody>\n",
              "</table>\n",
              "</div>\n",
              "    <div class=\"colab-df-buttons\">\n",
              "\n",
              "  <div class=\"colab-df-container\">\n",
              "    <button class=\"colab-df-convert\" onclick=\"convertToInteractive('df-4f5e8720-97c1-4418-bbf7-9098af60572a')\"\n",
              "            title=\"Convert this dataframe to an interactive table.\"\n",
              "            style=\"display:none;\">\n",
              "\n",
              "  <svg xmlns=\"http://www.w3.org/2000/svg\" height=\"24px\" viewBox=\"0 -960 960 960\">\n",
              "    <path d=\"M120-120v-720h720v720H120Zm60-500h600v-160H180v160Zm220 220h160v-160H400v160Zm0 220h160v-160H400v160ZM180-400h160v-160H180v160Zm440 0h160v-160H620v160ZM180-180h160v-160H180v160Zm440 0h160v-160H620v160Z\"/>\n",
              "  </svg>\n",
              "    </button>\n",
              "\n",
              "  <style>\n",
              "    .colab-df-container {\n",
              "      display:flex;\n",
              "      gap: 12px;\n",
              "    }\n",
              "\n",
              "    .colab-df-convert {\n",
              "      background-color: #E8F0FE;\n",
              "      border: none;\n",
              "      border-radius: 50%;\n",
              "      cursor: pointer;\n",
              "      display: none;\n",
              "      fill: #1967D2;\n",
              "      height: 32px;\n",
              "      padding: 0 0 0 0;\n",
              "      width: 32px;\n",
              "    }\n",
              "\n",
              "    .colab-df-convert:hover {\n",
              "      background-color: #E2EBFA;\n",
              "      box-shadow: 0px 1px 2px rgba(60, 64, 67, 0.3), 0px 1px 3px 1px rgba(60, 64, 67, 0.15);\n",
              "      fill: #174EA6;\n",
              "    }\n",
              "\n",
              "    .colab-df-buttons div {\n",
              "      margin-bottom: 4px;\n",
              "    }\n",
              "\n",
              "    [theme=dark] .colab-df-convert {\n",
              "      background-color: #3B4455;\n",
              "      fill: #D2E3FC;\n",
              "    }\n",
              "\n",
              "    [theme=dark] .colab-df-convert:hover {\n",
              "      background-color: #434B5C;\n",
              "      box-shadow: 0px 1px 3px 1px rgba(0, 0, 0, 0.15);\n",
              "      filter: drop-shadow(0px 1px 2px rgba(0, 0, 0, 0.3));\n",
              "      fill: #FFFFFF;\n",
              "    }\n",
              "  </style>\n",
              "\n",
              "    <script>\n",
              "      const buttonEl =\n",
              "        document.querySelector('#df-4f5e8720-97c1-4418-bbf7-9098af60572a button.colab-df-convert');\n",
              "      buttonEl.style.display =\n",
              "        google.colab.kernel.accessAllowed ? 'block' : 'none';\n",
              "\n",
              "      async function convertToInteractive(key) {\n",
              "        const element = document.querySelector('#df-4f5e8720-97c1-4418-bbf7-9098af60572a');\n",
              "        const dataTable =\n",
              "          await google.colab.kernel.invokeFunction('convertToInteractive',\n",
              "                                                    [key], {});\n",
              "        if (!dataTable) return;\n",
              "\n",
              "        const docLinkHtml = 'Like what you see? Visit the ' +\n",
              "          '<a target=\"_blank\" href=https://colab.research.google.com/notebooks/data_table.ipynb>data table notebook</a>'\n",
              "          + ' to learn more about interactive tables.';\n",
              "        element.innerHTML = '';\n",
              "        dataTable['output_type'] = 'display_data';\n",
              "        await google.colab.output.renderOutput(dataTable, element);\n",
              "        const docLink = document.createElement('div');\n",
              "        docLink.innerHTML = docLinkHtml;\n",
              "        element.appendChild(docLink);\n",
              "      }\n",
              "    </script>\n",
              "  </div>\n",
              "\n",
              "\n",
              "<div id=\"df-d6f27bdb-5849-4cca-b140-17d5c2179842\">\n",
              "  <button class=\"colab-df-quickchart\" onclick=\"quickchart('df-d6f27bdb-5849-4cca-b140-17d5c2179842')\"\n",
              "            title=\"Suggest charts\"\n",
              "            style=\"display:none;\">\n",
              "\n",
              "<svg xmlns=\"http://www.w3.org/2000/svg\" height=\"24px\"viewBox=\"0 0 24 24\"\n",
              "     width=\"24px\">\n",
              "    <g>\n",
              "        <path d=\"M19 3H5c-1.1 0-2 .9-2 2v14c0 1.1.9 2 2 2h14c1.1 0 2-.9 2-2V5c0-1.1-.9-2-2-2zM9 17H7v-7h2v7zm4 0h-2V7h2v10zm4 0h-2v-4h2v4z\"/>\n",
              "    </g>\n",
              "</svg>\n",
              "  </button>\n",
              "\n",
              "<style>\n",
              "  .colab-df-quickchart {\n",
              "      --bg-color: #E8F0FE;\n",
              "      --fill-color: #1967D2;\n",
              "      --hover-bg-color: #E2EBFA;\n",
              "      --hover-fill-color: #174EA6;\n",
              "      --disabled-fill-color: #AAA;\n",
              "      --disabled-bg-color: #DDD;\n",
              "  }\n",
              "\n",
              "  [theme=dark] .colab-df-quickchart {\n",
              "      --bg-color: #3B4455;\n",
              "      --fill-color: #D2E3FC;\n",
              "      --hover-bg-color: #434B5C;\n",
              "      --hover-fill-color: #FFFFFF;\n",
              "      --disabled-bg-color: #3B4455;\n",
              "      --disabled-fill-color: #666;\n",
              "  }\n",
              "\n",
              "  .colab-df-quickchart {\n",
              "    background-color: var(--bg-color);\n",
              "    border: none;\n",
              "    border-radius: 50%;\n",
              "    cursor: pointer;\n",
              "    display: none;\n",
              "    fill: var(--fill-color);\n",
              "    height: 32px;\n",
              "    padding: 0;\n",
              "    width: 32px;\n",
              "  }\n",
              "\n",
              "  .colab-df-quickchart:hover {\n",
              "    background-color: var(--hover-bg-color);\n",
              "    box-shadow: 0 1px 2px rgba(60, 64, 67, 0.3), 0 1px 3px 1px rgba(60, 64, 67, 0.15);\n",
              "    fill: var(--button-hover-fill-color);\n",
              "  }\n",
              "\n",
              "  .colab-df-quickchart-complete:disabled,\n",
              "  .colab-df-quickchart-complete:disabled:hover {\n",
              "    background-color: var(--disabled-bg-color);\n",
              "    fill: var(--disabled-fill-color);\n",
              "    box-shadow: none;\n",
              "  }\n",
              "\n",
              "  .colab-df-spinner {\n",
              "    border: 2px solid var(--fill-color);\n",
              "    border-color: transparent;\n",
              "    border-bottom-color: var(--fill-color);\n",
              "    animation:\n",
              "      spin 1s steps(1) infinite;\n",
              "  }\n",
              "\n",
              "  @keyframes spin {\n",
              "    0% {\n",
              "      border-color: transparent;\n",
              "      border-bottom-color: var(--fill-color);\n",
              "      border-left-color: var(--fill-color);\n",
              "    }\n",
              "    20% {\n",
              "      border-color: transparent;\n",
              "      border-left-color: var(--fill-color);\n",
              "      border-top-color: var(--fill-color);\n",
              "    }\n",
              "    30% {\n",
              "      border-color: transparent;\n",
              "      border-left-color: var(--fill-color);\n",
              "      border-top-color: var(--fill-color);\n",
              "      border-right-color: var(--fill-color);\n",
              "    }\n",
              "    40% {\n",
              "      border-color: transparent;\n",
              "      border-right-color: var(--fill-color);\n",
              "      border-top-color: var(--fill-color);\n",
              "    }\n",
              "    60% {\n",
              "      border-color: transparent;\n",
              "      border-right-color: var(--fill-color);\n",
              "    }\n",
              "    80% {\n",
              "      border-color: transparent;\n",
              "      border-right-color: var(--fill-color);\n",
              "      border-bottom-color: var(--fill-color);\n",
              "    }\n",
              "    90% {\n",
              "      border-color: transparent;\n",
              "      border-bottom-color: var(--fill-color);\n",
              "    }\n",
              "  }\n",
              "</style>\n",
              "\n",
              "  <script>\n",
              "    async function quickchart(key) {\n",
              "      const quickchartButtonEl =\n",
              "        document.querySelector('#' + key + ' button');\n",
              "      quickchartButtonEl.disabled = true;  // To prevent multiple clicks.\n",
              "      quickchartButtonEl.classList.add('colab-df-spinner');\n",
              "      try {\n",
              "        const charts = await google.colab.kernel.invokeFunction(\n",
              "            'suggestCharts', [key], {});\n",
              "      } catch (error) {\n",
              "        console.error('Error during call to suggestCharts:', error);\n",
              "      }\n",
              "      quickchartButtonEl.classList.remove('colab-df-spinner');\n",
              "      quickchartButtonEl.classList.add('colab-df-quickchart-complete');\n",
              "    }\n",
              "    (() => {\n",
              "      let quickchartButtonEl =\n",
              "        document.querySelector('#df-d6f27bdb-5849-4cca-b140-17d5c2179842 button');\n",
              "      quickchartButtonEl.style.display =\n",
              "        google.colab.kernel.accessAllowed ? 'block' : 'none';\n",
              "    })();\n",
              "  </script>\n",
              "</div>\n",
              "\n",
              "    </div>\n",
              "  </div>\n"
            ],
            "application/vnd.google.colaboratory.intrinsic+json": {
              "type": "dataframe",
              "variable_name": "df",
              "summary": "{\n  \"name\": \"df\",\n  \"rows\": 4,\n  \"fields\": [\n    {\n      \"column\": \"Poblacion_masculina\",\n      \"properties\": {\n        \"dtype\": \"number\",\n        \"std\": 46863154.67387598,\n        \"min\": 22527129.0,\n        \"max\": 103913061.0,\n        \"num_unique_values\": 4,\n        \"samples\": [\n          22527129.0,\n          103548935.0,\n          22596984.0\n        ],\n        \"semantic_type\": \"\",\n        \"description\": \"\"\n      }\n    },\n    {\n      \"column\": \"poblacion_femenina\",\n      \"properties\": {\n        \"dtype\": \"number\",\n        \"std\": 48544849.777527854,\n        \"min\": 22880775.0,\n        \"max\": 107227668.0,\n        \"num_unique_values\": 4,\n        \"samples\": [\n          22880775.0,\n          106757480.0,\n          22941417.0\n        ],\n        \"semantic_type\": \"\",\n        \"description\": \"\"\n      }\n    }\n  ]\n}"
            }
          },
          "metadata": {},
          "execution_count": 79
        }
      ],
      "source": [
        "indicadores = {'SP.POP.TOTL.MA.IN':'Poblacion_masculina','SP.POP.TOTL.FE.IN':'poblacion_femenina'}\n",
        "data = wbdata.get_dataframe(indicadores, country=['ARG','BRA'], date=(\"2022\",\"2023\"))\n",
        "\n",
        "df = pd.DataFrame(data=data)\n",
        "df.head()"
      ]
    },
    {
      "cell_type": "markdown",
      "metadata": {
        "id": "rMm2K04XjvnF"
      },
      "source": [
        "#### Ejercicio 2 - Repaso de Pandas\n",
        "Realicen una estadistica descriptiva de ambas series de indicadores comparando los dos países."
      ]
    },
    {
      "cell_type": "code",
      "execution_count": null,
      "metadata": {
        "id": "lMzDks1RjvnG"
      },
      "outputs": [],
      "source": [
        "# Resolver acá\n",
        "ax = df.plot(kind='bar', title='Puntaje en educación')\n",
        "ax.set_xlabel('País-Año',color='grey')\n",
        "ax.set_ylabel('Puntaje',color='grey')\n",
        "ax.legend([\"Mujeres\",\"Varones\"])"
      ]
    },
    {
      "cell_type": "code",
      "source": [
        "df.reset_index(inplace=True)\n",
        "df"
      ],
      "metadata": {
        "id": "4G8C4sxrktdO"
      },
      "execution_count": null,
      "outputs": []
    },
    {
      "cell_type": "code",
      "source": [
        "print(df[\"date\"].dtype) # no es numérica\n",
        "df_2022 = df[df[\"date\"]==\"2022\"]\n",
        "df_2022"
      ],
      "metadata": {
        "id": "9B2m61Crlhva"
      },
      "execution_count": null,
      "outputs": []
    },
    {
      "cell_type": "code",
      "source": [
        "df_2022 = df_2022.set_index([\"country\", \"date\"])\n",
        "df_2022"
      ],
      "metadata": {
        "id": "vLbsl_kJsZTj"
      },
      "execution_count": null,
      "outputs": []
    },
    {
      "cell_type": "code",
      "source": [
        "ax = df_2022.plot(kind='bar', title='Población en 2022')\n",
        "ax.set_xlabel('País-Año',color='grey')\n",
        "ax.set_ylabel('Puntaje',color='grey')\n",
        "ax.tick_params(axis=\"x\", rotation=0)\n",
        "ax.legend([\"Mujeres\",\"Varones\"])"
      ],
      "metadata": {
        "colab": {
          "base_uri": "https://localhost:8080/",
          "height": 491
        },
        "id": "NMua9Q-nrBRo",
        "outputId": "05950f3b-6a0e-4b52-d8bb-d3732fc98b38"
      },
      "execution_count": 84,
      "outputs": [
        {
          "output_type": "execute_result",
          "data": {
            "text/plain": [
              "<matplotlib.legend.Legend at 0x7f1debf6ad90>"
            ]
          },
          "metadata": {},
          "execution_count": 84
        },
        {
          "output_type": "display_data",
          "data": {
            "text/plain": [
              "<Figure size 640x480 with 1 Axes>"
            ],
            "image/png": "[encoded data removed]"
          },
          "metadata": {}
        }
      ]
    },
    {
      "cell_type": "markdown",
      "source": [],
      "metadata": {
        "id": "YO80UQSRrA0i"
      }
    },
    {
      "cell_type": "markdown",
      "metadata": {
        "id": "yNjlepdrjvnH"
      },
      "source": [
        "#### Ejercicio 3 - Practicando con Matplotlib\n",
        "Armen dos gráficos distintos usando la librería Matplotlib (repasen Clase 4). Uno programandolo con el estilo *pyplot* y otro gráfico de estilo *orientada a objetos*"
      ]
    },
    {
      "cell_type": "code",
      "execution_count": 85,
      "metadata": {
        "id": "e6oweQgzjvnH"
      },
      "outputs": [],
      "source": [
        "# Resolver acá estilo pyplot\n"
      ]
    },
    {
      "cell_type": "code",
      "execution_count": 86,
      "metadata": {
        "id": "VLjbE2EQjvnI"
      },
      "outputs": [],
      "source": [
        "# Resolver acá estilo orientado-objetos\n",
        "# Tip: aprovechar este estilo de programar una figura para hacerlo más lindo\n"
      ]
    },
    {
      "cell_type": "code",
      "source": [],
      "metadata": {
        "id": "DZQBjw28VH4m"
      },
      "execution_count": null,
      "outputs": []
    },
    {
      "cell_type": "markdown",
      "metadata": {
        "id": "QkZ5R3NyjvnJ"
      },
      "source": [
        "### Parte B"
      ]
    },
    {
      "cell_type": "markdown",
      "metadata": {
        "id": "zQHrF58ajvnK"
      },
      "source": [
        "#### Ejercicio 4\n",
        "De la página de noticias del [diario La Nación](https://www.lanacion.com.ar/) o cualquier diario que les interese, utilicen herramientas de web scraping para obtener los **links** de las noticias de la portada. Guarden los links obtenidos en un dataframe y expórtenlo a un archivo de excel.\n",
        "\n",
        "Nota 1: es posible que logren obtener los links a las noticias sin el dominio: \"https://www.lanacion.com.ar/\". De ser así, concatenen el dominio a la ruta del link obtenido, tal que se obtenga un link al que se pueda acceder. Es decir, que las cadenas de caracteres finales tendrán la forma: https://www.lanacion.com.ar/*texto_obtenido*)\n",
        "\n",
        "Nota 2: junto con su entrega, adjunten una captura de la página de noticias al momento de correr su código. Eso servirá al momento de la corrección para verificar que los links obtenidos hacen referencia a las noticias de ese día y hora."
      ]
    },
    {
      "cell_type": "code",
      "source": [
        "#resolver aca\n",
        "!pip install requests\n",
        "!pip install BeautifulSoup4\n",
        "!pip install pandas\n",
        "#\n",
        "\n",
        "import requests #html requestor\n",
        "from bs4 import BeautifulSoup #html parser\n",
        "import pandas as pd #dataframe manipulator"
      ],
      "metadata": {
        "id": "8uDfYChiJ0OL"
      },
      "execution_count": null,
      "outputs": []
    },
    {
      "cell_type": "code",
      "source": [
        "url = \"https://www.clarin.com/?srsltid=AfmBOopbxuixgngKSr3k2x3fAcbb_C7VMzM14YmHEIR7nid1HptB0yBv\"\n",
        "\n",
        "r = requests.get(url) #traigo el contenido del html\n",
        "contenido = r.content\n",
        "\n",
        "soup = BeautifulSoup(contenido, \"html.parser\")\n",
        "soup"
      ],
      "metadata": {
        "collapsed": true,
        "id": "f3PwU9j9J_5Q"
      },
      "execution_count": null,
      "outputs": []
    },
    {
      "cell_type": "code",
      "source": [
        "h2_elements = soup.find_all('h2')\n",
        "\n",
        "#print(type(h2_elements))\n",
        "print('\\n', h2_elements)"
      ],
      "metadata": {
        "id": "wpmysxbGKDg2"
      },
      "execution_count": null,
      "outputs": []
    },
    {
      "cell_type": "code",
      "source": [
        "for h2_element in h2_elements:\n",
        "    a_tag = h2_element.find('a', href=True)  # Busca el <a> dentro del <h2>\n",
        "    if a_tag:\n",
        "        print(a_tag['href'])  # Extrae y muestra el enlace\n",
        "\n",
        "for i in h2_elements:\n",
        "    a_tag = i.find('a', href=True)\n",
        "    if a_tag:\n",
        "        print(a_tag['href'])\n",
        "\n",
        "\n"
      ],
      "metadata": {
        "colab": {
          "base_uri": "https://localhost:8080/"
        },
        "id": "3p43GXoEKF-H",
        "outputId": "acc04cbc-afd6-42a1-da8b-79d0d4b1a8c1"
      },
      "execution_count": 91,
      "outputs": [
        {
          "output_type": "stream",
          "name": "stdout",
          "text": [
            "https://www.clarin.com/politica/javier-milei-medidas-vivo-kuka-gustara-presidente-afirmo-pobreza-siguio-bajando-arranque-2025_0_wdVYrxib6r.html\n",
            "https://www.clarin.com/economia/dolar-hoy-dolar-blue-vivo-cotiza-precio-martes-1-abril-minuto-minuto_0_KgMIJU17Se.html\n",
            "https://www.clarin.com/politica/elecciones-2025-argentina-vivo-semana-clave-interna-cristina-kicillof-desdoblamiento-provincia_0_6m1SMmAAh5.html\n",
            "https://www.clarin.com/politica/javier-milei-medidas-vivo-kuka-gustara-presidente-afirmo-pobreza-siguio-bajando-arranque-2025_0_wdVYrxib6r.html\n",
            "https://www.clarin.com/economia/dolar-hoy-dolar-blue-vivo-cotiza-precio-martes-1-abril-minuto-minuto_0_KgMIJU17Se.html\n",
            "https://www.clarin.com/politica/elecciones-2025-argentina-vivo-semana-clave-interna-cristina-kicillof-desdoblamiento-provincia_0_6m1SMmAAh5.html\n"
          ]
        }
      ]
    }
  ],
  "metadata": {
    "anaconda-cloud": {},
    "colab": {
      "name": "TP1 - Parte 1.ipynb",
      "provenance": []
    },
    "kernelspec": {
      "display_name": "Python [conda env:base] *",
      "language": "python",
      "name": "conda-base-py"
    },
    "language_info": {
      "codemirror_mode": {
        "name": "ipython",
        "version": 3
      },
      "file_extension": ".py",
      "mimetype": "text/x-python",
      "name": "python",
      "nbconvert_exporter": "python",
      "pygments_lexer": "ipython3",
      "version": "3.12.7"
    }
  },
  "nbformat": 4,
  "nbformat_minor": 0
}
