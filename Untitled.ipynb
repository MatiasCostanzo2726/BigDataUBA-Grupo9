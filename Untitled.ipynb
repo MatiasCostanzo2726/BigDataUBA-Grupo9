{
 "cells": [
  {
   "cell_type": "code",
   "execution_count": 1,
   "id": "60df84bb-400b-49ea-8b79-6b20e18fc84b",
   "metadata": {},
   "outputs": [],
   "source": [
    "###Parte 1: Familiarizandonos con la base EPH y limpieza"
   ]
  },
  {
   "cell_type": "code",
   "execution_count": 2,
   "id": "6a38cf8e-c58f-4f0a-98fc-eea192551855",
   "metadata": {
    "collapsed": true,
    "jupyter": {
     "outputs_hidden": true
    },
    "scrolled": true
   },
   "outputs": [
    {
     "name": "stdout",
     "output_type": "stream",
     "text": [
      "Requirement already satisfied: pandas in c:\\users\\garbarino\\anaconda3\\lib\\site-packages (2.2.2)\n",
      "Requirement already satisfied: numpy>=1.26.0 in c:\\users\\garbarino\\anaconda3\\lib\\site-packages (from pandas) (1.26.4)\n",
      "Requirement already satisfied: python-dateutil>=2.8.2 in c:\\users\\garbarino\\anaconda3\\lib\\site-packages (from pandas) (2.9.0.post0)\n",
      "Requirement already satisfied: pytz>=2020.1 in c:\\users\\garbarino\\anaconda3\\lib\\site-packages (from pandas) (2025.2)\n",
      "Requirement already satisfied: tzdata>=2022.7 in c:\\users\\garbarino\\anaconda3\\lib\\site-packages (from pandas) (2023.3)\n",
      "Requirement already satisfied: six>=1.5 in c:\\users\\garbarino\\anaconda3\\lib\\site-packages (from python-dateutil>=2.8.2->pandas) (1.16.0)\n",
      "Note: you may need to restart the kernel to use updated packages.\n"
     ]
    }
   ],
   "source": [
    "pip install pandas"
   ]
  },
  {
   "cell_type": "code",
   "execution_count": 5,
   "id": "f6835afb-4294-4212-a61e-742017bf7ea6",
   "metadata": {},
   "outputs": [],
   "source": [
    "import pandas as pd "
   ]
  },
  {
   "cell_type": "code",
   "execution_count": 7,
   "id": "af078d4e-1753-4c99-aee0-11cc961135d4",
   "metadata": {},
   "outputs": [],
   "source": [
    "import os"
   ]
  },
  {
   "cell_type": "code",
   "execution_count": 9,
   "id": "2c491202-1c34-4b99-988f-d87e84973e10",
   "metadata": {},
   "outputs": [],
   "source": [
    "#Importamos los archivos del primer trimestre de la EPH de los años 2004 y 2024"
   ]
  },
  {
   "cell_type": "code",
   "execution_count": 11,
   "id": "e298eec7-275b-4886-9604-4c68a9762c7d",
   "metadata": {},
   "outputs": [],
   "source": [
    "df_stata = pd.read_stata(r\"C:\\Users\\Garbarino\\OneDrive\\Documentos\\yo\\BigData\\TP2\\Individual_t104.dta\")"
   ]
  },
  {
   "cell_type": "code",
   "execution_count": 13,
   "id": "cf2c24c5-1e52-40c9-b67f-923a6316d09c",
   "metadata": {
    "collapsed": true,
    "jupyter": {
     "outputs_hidden": true
    }
   },
   "outputs": [
    {
     "name": "stdout",
     "output_type": "stream",
     "text": [
      "Index(['CODUSU', 'nro_hogar', 'componente', 'h15', 'ano4', 'trimestre',\n",
      "       'region', 'mas_500', 'aglomerado', 'pondera',\n",
      "       ...\n",
      "       'deccfr', 'ideccfr', 'rdeccfr', 'gdeccfr', 'pdeccfr', 'adeccfr',\n",
      "       'pj1_1', 'pj2_1', 'pj3_1', 'idimpp'],\n",
      "      dtype='object', length=176)\n"
     ]
    }
   ],
   "source": [
    "#Imprimimos las columnas para poder elegir la región\n",
    "print(df_stata.columns)"
   ]
  },
  {
   "cell_type": "code",
   "execution_count": 15,
   "id": "8a6db7cb-895b-4b69-b12a-089db9c80fcd",
   "metadata": {},
   "outputs": [],
   "source": [
    "df_stata.rename(columns=str.upper, inplace=True)\n",
    "#Renombramos la columna así coincide con la EPH del 2024"
   ]
  },
  {
   "cell_type": "code",
   "execution_count": 17,
   "id": "03860a86-0ab0-4d5a-bed7-8cbe5b330074",
   "metadata": {
    "collapsed": true,
    "jupyter": {
     "outputs_hidden": true
    },
    "scrolled": true
   },
   "outputs": [
    {
     "name": "stdout",
     "output_type": "stream",
     "text": [
      "Index(['CODUSU', 'NRO_HOGAR', 'COMPONENTE', 'H15', 'ANO4', 'TRIMESTRE',\n",
      "       'REGION', 'MAS_500', 'AGLOMERADO', 'PONDERA',\n",
      "       ...\n",
      "       'DECCFR', 'IDECCFR', 'RDECCFR', 'GDECCFR', 'PDECCFR', 'ADECCFR',\n",
      "       'PJ1_1', 'PJ2_1', 'PJ3_1', 'IDIMPP'],\n",
      "      dtype='object', length=176)\n"
     ]
    }
   ],
   "source": [
    "print(df_stata.columns)"
   ]
  },
  {
   "cell_type": "code",
   "execution_count": 19,
   "id": "f4c8af5f-b218-45b9-9df2-3be0fc5ac128",
   "metadata": {},
   "outputs": [],
   "source": [
    "df_excel = pd.read_excel(r\"C:\\Users\\Garbarino\\OneDrive\\Documentos\\yo\\BigData\\TP2\\usu_individual_T124.xlsx\")"
   ]
  },
  {
   "cell_type": "code",
   "execution_count": 21,
   "id": "60dfe54d-21a1-4541-807d-77f59e0505e3",
   "metadata": {
    "collapsed": true,
    "jupyter": {
     "outputs_hidden": true
    }
   },
   "outputs": [
    {
     "name": "stdout",
     "output_type": "stream",
     "text": [
      "Index(['CODUSU', 'ANO4', 'TRIMESTRE', 'NRO_HOGAR', 'COMPONENTE', 'H15',\n",
      "       'REGION', 'MAS_500', 'AGLOMERADO', 'PONDERA',\n",
      "       ...\n",
      "       'PDECIFR', 'ADECIFR', 'IPCF', 'DECCFR', 'IDECCFR', 'RDECCFR', 'GDECCFR',\n",
      "       'PDECCFR', 'ADECCFR', 'PONDIH'],\n",
      "      dtype='object', length=177)\n"
     ]
    }
   ],
   "source": [
    "print(df_excel.columns)"
   ]
  },
  {
   "cell_type": "code",
   "execution_count": 23,
   "id": "af5523fc-6fb3-4d1a-ad27-2af9003e0de4",
   "metadata": {},
   "outputs": [],
   "source": [
    "#Indicamos la región elegida, en la EPH del 2004 debemos tomarlo como NOA y la del 2024 por su código.\n",
    "df_excel_noa = df_excel[df_excel[\"REGION\"] == 40]\n",
    "df_stata_noa = df_stata[df_stata[\"REGION\"] == \"NOA\"]"
   ]
  },
  {
   "cell_type": "code",
   "execution_count": 25,
   "id": "82b6d850-12ae-49f9-bfee-05b7b4ee204b",
   "metadata": {},
   "outputs": [],
   "source": [
    "variables_interes = [\n",
    "    \"CH04\", \"CH06\", \"CH07\", \"CH08\", \"CH10\", \"CH11\", \"CH12\", \"CH13\",\n",
    "    \"NIVEL_ED\", \"ESTADO\", \"CAT_OCUP\", \"CAT_INAC\",\n",
    "    \"PP02H\", \"PP02I\", \"P47T\"\n",
    "]"
   ]
  },
  {
   "cell_type": "code",
   "execution_count": 27,
   "id": "a5cbe535-9610-4eb0-b633-80a4c9a4509b",
   "metadata": {
    "collapsed": true,
    "jupyter": {
     "outputs_hidden": true
    }
   },
   "outputs": [
    {
     "name": "stdout",
     "output_type": "stream",
     "text": [
      "['CODUSU', 'NRO_HOGAR', 'COMPONENTE', 'H15', 'ANO4', 'TRIMESTRE', 'REGION', 'MAS_500', 'AGLOMERADO', 'PONDERA', 'CH03', 'CH04', 'CH06', 'CH07', 'CH08', 'CH09', 'CH10', 'CH11', 'CH12', 'CH13', 'CH14', 'CH15', 'CH15_COD', 'CH16', 'CH16_COD', 'NIVEL_ED', 'ESTADO', 'CAT_OCUP', 'CAT_INAC', 'PP02C1', 'PP02C2', 'PP02C3', 'PP02C4', 'PP02C5', 'PP02C6', 'PP02C7', 'PP02C8', 'PP02E', 'PP02H', 'PP02I', 'PP03C', 'PP03D', 'PP3E_TOT', 'PP3F_TOT', 'PP03G', 'PP03H', 'PP03I', 'PP03J', 'INTENSI', 'PP04A', 'PP04B_COD', 'PP04B1', 'PP04B2', 'PP04B3_MES', 'PP04B3_ANO', 'PP04B3_DIA', 'PP04C', 'PP04C99', 'PP04D_COD', 'PP04G', 'PP05B2_MES', 'PP05B2_ANO', 'PP05B2_DIA', 'PP05C_1', 'PP05C_2', 'PP05C_3', 'PP05E', 'PP05F', 'PP05H', 'PP06A', 'PP06C', 'PP06D', 'PP06E', 'PP06H', 'PP07A', 'PP07C', 'PP07D', 'PP07E', 'PP07F1', 'PP07F2', 'PP07F3', 'PP07F4', 'PP07F5', 'PP07G1', 'PP07G2', 'PP07G3', 'PP07G4', 'PP07G_59', 'PP07H', 'PP07I', 'PP07J', 'PP07K', 'PP08D1', 'PP08D4', 'PP08F1', 'PP08F2', 'PP08J1', 'PP08J2', 'PP08J3', 'PP09A', 'PP09A_ESP', 'PP09B', 'PP09C', 'PP09C_ESP', 'PP10A', 'PP10C', 'PP10D', 'PP10E', 'PP11A', 'PP11B_COD', 'PP11B1', 'PP11B2_MES', 'PP11B2_ANO', 'PP11B2_DIA', 'PP11C', 'PP11C99', 'PP11D_COD', 'PP11G_ANO', 'PP11G_MES', 'PP11G_DIA', 'PP11L', 'PP11L1', 'PP11M', 'PP11N', 'PP11O', 'PP11P', 'PP11Q', 'PP11R', 'PP11S', 'PP11T', 'P21', 'DECOCUR', 'IDECOCUR', 'RDECOCUR', 'GDECOCUR', 'PDECOCUR', 'ADECOCUR', 'TOT_P12', 'P47T', 'DECINDR', 'IDECINDR', 'RDECINDR', 'GDECINDR', 'PDECINDR', 'ADECINDR', 'V2_M', 'V3_M', 'V4_M', 'V5_M', 'V8_M', 'V9_M', 'V10_M', 'V11_M', 'V12_M', 'V18_M', 'V19_AM', 'V21_M', 'T_VI', 'ITF', 'DECIFR', 'IDECIFR', 'RDECIFR', 'GDECIFR', 'PDECIFR', 'ADECIFR', 'IPCF', 'DECCFR', 'IDECCFR', 'RDECCFR', 'GDECCFR', 'PDECCFR', 'ADECCFR', 'PJ1_1', 'PJ2_1', 'PJ3_1', 'IDIMPP']\n"
     ]
    }
   ],
   "source": [
    "print(df_stata_noa.columns.tolist())"
   ]
  },
  {
   "cell_type": "code",
   "execution_count": 29,
   "id": "935f4b63-0456-4f93-b7dd-82bd6fcbfd3c",
   "metadata": {},
   "outputs": [],
   "source": [
    "#Unimos (append) las bases en una sola base de datos y reiniciamos los índices para que queden en orden\n",
    "df_stata_noa = df_stata_noa[variables_interes]\n",
    "df_excel_noa = df_excel_noa[variables_interes]"
   ]
  },
  {
   "cell_type": "code",
   "execution_count": 31,
   "id": "d0dd7274-dfe9-4c8e-ac77-3bc6bb7b835a",
   "metadata": {},
   "outputs": [],
   "source": [
    "#Agregamos una columna que nos indique a qué año pertenece cada dato\n",
    "df_stata_noa[\"ANO4\"] = 2004  \n",
    "df_excel_noa[\"ANO4\"] = 2024 "
   ]
  },
  {
   "cell_type": "code",
   "execution_count": 33,
   "id": "4e4ab9d2-cd63-474f-b736-44156f9fd6ed",
   "metadata": {},
   "outputs": [],
   "source": [
    "df_unido = pd.concat([df_stata_noa, df_excel_noa], ignore_index=True)"
   ]
  },
  {
   "cell_type": "code",
   "execution_count": 35,
   "id": "b0875751-2c6d-475a-858c-fa1b86547077",
   "metadata": {
    "collapsed": true,
    "jupyter": {
     "outputs_hidden": true
    },
    "scrolled": true
   },
   "outputs": [
    {
     "data": {
      "text/html": [
       "<div>\n",
       "<style scoped>\n",
       "    .dataframe tbody tr th:only-of-type {\n",
       "        vertical-align: middle;\n",
       "    }\n",
       "\n",
       "    .dataframe tbody tr th {\n",
       "        vertical-align: top;\n",
       "    }\n",
       "\n",
       "    .dataframe thead th {\n",
       "        text-align: right;\n",
       "    }\n",
       "</style>\n",
       "<table border=\"1\" class=\"dataframe\">\n",
       "  <thead>\n",
       "    <tr style=\"text-align: right;\">\n",
       "      <th></th>\n",
       "      <th>CH04</th>\n",
       "      <th>CH06</th>\n",
       "      <th>CH07</th>\n",
       "      <th>CH08</th>\n",
       "      <th>CH10</th>\n",
       "      <th>CH11</th>\n",
       "      <th>CH12</th>\n",
       "      <th>CH13</th>\n",
       "      <th>NIVEL_ED</th>\n",
       "      <th>ESTADO</th>\n",
       "      <th>CAT_OCUP</th>\n",
       "      <th>CAT_INAC</th>\n",
       "      <th>PP02H</th>\n",
       "      <th>PP02I</th>\n",
       "      <th>P47T</th>\n",
       "      <th>ANO4</th>\n",
       "    </tr>\n",
       "  </thead>\n",
       "  <tbody>\n",
       "    <tr>\n",
       "      <th>0</th>\n",
       "      <td>Mujer</td>\n",
       "      <td>74.0</td>\n",
       "      <td>Separado o divorciado</td>\n",
       "      <td>Obra social y mutual/prepaga/servicio de emerg...</td>\n",
       "      <td>No asiste, pero asistió</td>\n",
       "      <td>0.0</td>\n",
       "      <td>Primario</td>\n",
       "      <td>Sí</td>\n",
       "      <td>Primaria Completa</td>\n",
       "      <td>Inactivo</td>\n",
       "      <td>0.0</td>\n",
       "      <td>Jubilado/pensionado</td>\n",
       "      <td>No</td>\n",
       "      <td>No</td>\n",
       "      <td>280.0</td>\n",
       "      <td>2004</td>\n",
       "    </tr>\n",
       "    <tr>\n",
       "      <th>1</th>\n",
       "      <td>Varón</td>\n",
       "      <td>35.0</td>\n",
       "      <td>Unido</td>\n",
       "      <td>No paga ni le descuentan</td>\n",
       "      <td>No asiste, pero asistió</td>\n",
       "      <td>0.0</td>\n",
       "      <td>Secundario</td>\n",
       "      <td>No</td>\n",
       "      <td>Secundaria Incompleta</td>\n",
       "      <td>Desocupado</td>\n",
       "      <td>Cuenta propia</td>\n",
       "      <td>0.0</td>\n",
       "      <td>0.0</td>\n",
       "      <td>0.0</td>\n",
       "      <td>0.0</td>\n",
       "      <td>2004</td>\n",
       "    </tr>\n",
       "    <tr>\n",
       "      <th>2</th>\n",
       "      <td>Mujer</td>\n",
       "      <td>34.0</td>\n",
       "      <td>Unido</td>\n",
       "      <td>No paga ni le descuentan</td>\n",
       "      <td>No asiste, pero asistió</td>\n",
       "      <td>0.0</td>\n",
       "      <td>Primario</td>\n",
       "      <td>Sí</td>\n",
       "      <td>Primaria Completa</td>\n",
       "      <td>Inactivo</td>\n",
       "      <td>0.0</td>\n",
       "      <td>Ama de casa</td>\n",
       "      <td>Sí</td>\n",
       "      <td>Sí</td>\n",
       "      <td>50.0</td>\n",
       "      <td>2004</td>\n",
       "    </tr>\n",
       "    <tr>\n",
       "      <th>3</th>\n",
       "      <td>Mujer</td>\n",
       "      <td>14.0</td>\n",
       "      <td>Soltero</td>\n",
       "      <td>No paga ni le descuentan</td>\n",
       "      <td>Sí, asiste</td>\n",
       "      <td>Público</td>\n",
       "      <td>Polimodal</td>\n",
       "      <td>No</td>\n",
       "      <td>Secundaria Incompleta</td>\n",
       "      <td>Inactivo</td>\n",
       "      <td>0.0</td>\n",
       "      <td>Estudiante</td>\n",
       "      <td>No</td>\n",
       "      <td>No</td>\n",
       "      <td>400.0</td>\n",
       "      <td>2004</td>\n",
       "    </tr>\n",
       "    <tr>\n",
       "      <th>4</th>\n",
       "      <td>Varón</td>\n",
       "      <td>11.0</td>\n",
       "      <td>Soltero</td>\n",
       "      <td>No paga ni le descuentan</td>\n",
       "      <td>Sí, asiste</td>\n",
       "      <td>Público</td>\n",
       "      <td>EGB</td>\n",
       "      <td>No</td>\n",
       "      <td>Primaria Incompleta (incluye educación especial)</td>\n",
       "      <td>Inactivo</td>\n",
       "      <td>0.0</td>\n",
       "      <td>Estudiante</td>\n",
       "      <td>No</td>\n",
       "      <td>No</td>\n",
       "      <td>0.0</td>\n",
       "      <td>2004</td>\n",
       "    </tr>\n",
       "    <tr>\n",
       "      <th>...</th>\n",
       "      <td>...</td>\n",
       "      <td>...</td>\n",
       "      <td>...</td>\n",
       "      <td>...</td>\n",
       "      <td>...</td>\n",
       "      <td>...</td>\n",
       "      <td>...</td>\n",
       "      <td>...</td>\n",
       "      <td>...</td>\n",
       "      <td>...</td>\n",
       "      <td>...</td>\n",
       "      <td>...</td>\n",
       "      <td>...</td>\n",
       "      <td>...</td>\n",
       "      <td>...</td>\n",
       "      <td>...</td>\n",
       "    </tr>\n",
       "    <tr>\n",
       "      <th>19087</th>\n",
       "      <td>2</td>\n",
       "      <td>35</td>\n",
       "      <td>1</td>\n",
       "      <td>1</td>\n",
       "      <td>2</td>\n",
       "      <td>0</td>\n",
       "      <td>2</td>\n",
       "      <td>1</td>\n",
       "      <td>2</td>\n",
       "      <td>1</td>\n",
       "      <td>3</td>\n",
       "      <td>0</td>\n",
       "      <td>0</td>\n",
       "      <td>0</td>\n",
       "      <td>243000.0</td>\n",
       "      <td>2024</td>\n",
       "    </tr>\n",
       "    <tr>\n",
       "      <th>19088</th>\n",
       "      <td>1</td>\n",
       "      <td>18</td>\n",
       "      <td>5</td>\n",
       "      <td>4</td>\n",
       "      <td>2</td>\n",
       "      <td>0</td>\n",
       "      <td>4</td>\n",
       "      <td>1</td>\n",
       "      <td>4</td>\n",
       "      <td>3</td>\n",
       "      <td>0</td>\n",
       "      <td>7</td>\n",
       "      <td>2</td>\n",
       "      <td>2</td>\n",
       "      <td>16000.0</td>\n",
       "      <td>2024</td>\n",
       "    </tr>\n",
       "    <tr>\n",
       "      <th>19089</th>\n",
       "      <td>2</td>\n",
       "      <td>14</td>\n",
       "      <td>5</td>\n",
       "      <td>4</td>\n",
       "      <td>1</td>\n",
       "      <td>1</td>\n",
       "      <td>4</td>\n",
       "      <td>2</td>\n",
       "      <td>3</td>\n",
       "      <td>3</td>\n",
       "      <td>0</td>\n",
       "      <td>3</td>\n",
       "      <td>2</td>\n",
       "      <td>2</td>\n",
       "      <td>0.0</td>\n",
       "      <td>2024</td>\n",
       "    </tr>\n",
       "    <tr>\n",
       "      <th>19090</th>\n",
       "      <td>1</td>\n",
       "      <td>7</td>\n",
       "      <td>5</td>\n",
       "      <td>4</td>\n",
       "      <td>1</td>\n",
       "      <td>1</td>\n",
       "      <td>2</td>\n",
       "      <td>2</td>\n",
       "      <td>1</td>\n",
       "      <td>4</td>\n",
       "      <td>0</td>\n",
       "      <td>3</td>\n",
       "      <td>0</td>\n",
       "      <td>0</td>\n",
       "      <td>0.0</td>\n",
       "      <td>2024</td>\n",
       "    </tr>\n",
       "    <tr>\n",
       "      <th>19091</th>\n",
       "      <td>1</td>\n",
       "      <td>50</td>\n",
       "      <td>5</td>\n",
       "      <td>4</td>\n",
       "      <td>2</td>\n",
       "      <td>0</td>\n",
       "      <td>4</td>\n",
       "      <td>2</td>\n",
       "      <td>3</td>\n",
       "      <td>1</td>\n",
       "      <td>2</td>\n",
       "      <td>0</td>\n",
       "      <td>0</td>\n",
       "      <td>0</td>\n",
       "      <td>100000.0</td>\n",
       "      <td>2024</td>\n",
       "    </tr>\n",
       "  </tbody>\n",
       "</table>\n",
       "<p>19092 rows × 16 columns</p>\n",
       "</div>"
      ],
      "text/plain": [
       "        CH04  CH06                   CH07  \\\n",
       "0      Mujer  74.0  Separado o divorciado   \n",
       "1      Varón  35.0                  Unido   \n",
       "2      Mujer  34.0                  Unido   \n",
       "3      Mujer  14.0                Soltero   \n",
       "4      Varón  11.0                Soltero   \n",
       "...      ...   ...                    ...   \n",
       "19087      2    35                      1   \n",
       "19088      1    18                      5   \n",
       "19089      2    14                      5   \n",
       "19090      1     7                      5   \n",
       "19091      1    50                      5   \n",
       "\n",
       "                                                    CH08  \\\n",
       "0      Obra social y mutual/prepaga/servicio de emerg...   \n",
       "1                               No paga ni le descuentan   \n",
       "2                               No paga ni le descuentan   \n",
       "3                               No paga ni le descuentan   \n",
       "4                               No paga ni le descuentan   \n",
       "...                                                  ...   \n",
       "19087                                                  1   \n",
       "19088                                                  4   \n",
       "19089                                                  4   \n",
       "19090                                                  4   \n",
       "19091                                                  4   \n",
       "\n",
       "                          CH10     CH11        CH12 CH13  \\\n",
       "0      No asiste, pero asistió      0.0    Primario   Sí   \n",
       "1      No asiste, pero asistió      0.0  Secundario   No   \n",
       "2      No asiste, pero asistió      0.0    Primario   Sí   \n",
       "3                   Sí, asiste  Público   Polimodal   No   \n",
       "4                   Sí, asiste  Público         EGB   No   \n",
       "...                        ...      ...         ...  ...   \n",
       "19087                        2        0           2    1   \n",
       "19088                        2        0           4    1   \n",
       "19089                        1        1           4    2   \n",
       "19090                        1        1           2    2   \n",
       "19091                        2        0           4    2   \n",
       "\n",
       "                                               NIVEL_ED      ESTADO  \\\n",
       "0                                     Primaria Completa    Inactivo   \n",
       "1                                 Secundaria Incompleta  Desocupado   \n",
       "2                                     Primaria Completa    Inactivo   \n",
       "3                                 Secundaria Incompleta    Inactivo   \n",
       "4      Primaria Incompleta (incluye educación especial)    Inactivo   \n",
       "...                                                 ...         ...   \n",
       "19087                                                 2           1   \n",
       "19088                                                 4           3   \n",
       "19089                                                 3           3   \n",
       "19090                                                 1           4   \n",
       "19091                                                 3           1   \n",
       "\n",
       "            CAT_OCUP             CAT_INAC PP02H PP02I      P47T  ANO4  \n",
       "0                0.0  Jubilado/pensionado    No    No     280.0  2004  \n",
       "1      Cuenta propia                  0.0   0.0   0.0       0.0  2004  \n",
       "2                0.0          Ama de casa    Sí    Sí      50.0  2004  \n",
       "3                0.0           Estudiante    No    No     400.0  2004  \n",
       "4                0.0           Estudiante    No    No       0.0  2004  \n",
       "...              ...                  ...   ...   ...       ...   ...  \n",
       "19087              3                    0     0     0  243000.0  2024  \n",
       "19088              0                    7     2     2   16000.0  2024  \n",
       "19089              0                    3     2     2       0.0  2024  \n",
       "19090              0                    3     0     0       0.0  2024  \n",
       "19091              2                    0     0     0  100000.0  2024  \n",
       "\n",
       "[19092 rows x 16 columns]"
      ]
     },
     "metadata": {},
     "output_type": "display_data"
    }
   ],
   "source": [
    "#usamos display para observar que se hayan unido correctamente\n",
    "display(df_unido)"
   ]
  },
  {
   "cell_type": "code",
   "execution_count": 37,
   "id": "900c620b-7fc8-42d2-b5a3-07ed6fd660d8",
   "metadata": {},
   "outputs": [],
   "source": [
    "#exportamos como un excel para corroborar que los datos y las columnas estén bien distribuidas\n",
    "df_unido.to_excel(\"df_unido.xlsx\", index=False)"
   ]
  },
  {
   "cell_type": "code",
   "execution_count": 47,
   "id": "5171b8c5-bdf6-4ef6-9f59-5fd2e486be2d",
   "metadata": {
    "collapsed": true,
    "jupyter": {
     "outputs_hidden": true
    }
   },
   "outputs": [
    {
     "ename": "SyntaxError",
     "evalue": "invalid syntax (2243304402.py, line 2)",
     "output_type": "error",
     "traceback": [
      "\u001b[1;36m  Cell \u001b[1;32mIn[47], line 2\u001b[1;36m\u001b[0m\n\u001b[1;33m    Variable Significado\u001b[0m\n\u001b[1;37m             ^\u001b[0m\n\u001b[1;31mSyntaxError\u001b[0m\u001b[1;31m:\u001b[0m invalid syntax\n"
     ]
    }
   ],
   "source": [
    "###Las variables elegidas y su significado según el \"Diseño de Registro y Estructura para las bases de Microdatos\" \n",
    "#Variable Significado\n",
    "#CH04\tSexo \n",
    "#CH06\tEdad\n",
    "CH07\tEstado civil\n",
    "CH08\tCobertura médica\n",
    "CH10\tAsistencia establecimiento educativo\n",
    "CH11\tTipo de establecimiento\n",
    "CH12\tNivel más alto completado\n",
    "CH13\t¿Finalizó?\n",
    "NIVEL_ED\tNivel educativo \n",
    "ESTADO\tCondición de actividad (ocupado, desocupado, inactivo)\n",
    "CAT_OCUP\tCategoría ocupacional \n",
    "CAT_INAC\tCategoría de inactividad \n",
    "PP02H\tEn los últimos 12 meses ¿buscó trabajo en algún momento?\n",
    "PP02I\tEn los últimos 12 meses ¿trabajó en algún momento?\n",
    "P47T\tIngreso total individual"
   ]
  },
  {
   "cell_type": "code",
   "execution_count": 45,
   "id": "79cc13f9-7920-4ad1-a0b4-16d586a8ddd8",
   "metadata": {},
   "outputs": [
    {
     "name": "stdout",
     "output_type": "stream",
     "text": [
      "      CH04  CH06  CH07  CH08  CH10  CH11  CH12  CH13  NIVEL_ED  ESTADO  \\\n",
      "ANO4                                                                     \n",
      "2004     0     0     0     0     0     0     0     0         0       0   \n",
      "2024     0     0     0     0     0     0     0     0         0       0   \n",
      "\n",
      "      CAT_OCUP  CAT_INAC  PP02H  PP02I  P47T  \n",
      "ANO4                                          \n",
      "2004         0         0      0      0     0  \n",
      "2024         0         0      0      0     9  \n"
     ]
    }
   ],
   "source": [
    "#usamos un count para saber cuántos datos son NaN\n",
    "nan_count_by_year = df_unido.groupby(\"ANO4\")[variables_interes].apply(lambda x: x.isna().sum())\n",
    "\n",
    "print(nan_count_by_year)"
   ]
  },
  {
   "cell_type": "code",
   "execution_count": 49,
   "id": "1144a735-3063-4c35-a24b-54254ad89b5b",
   "metadata": {},
   "outputs": [],
   "source": [
    "### Se puede observar que en todas las categorías utilizadas no hay resultados faltantes, a excepción del 2024, en el indicador P47T, en el cual hay 9 valores faltantes."
   ]
  },
  {
   "cell_type": "code",
   "execution_count": 53,
   "id": "c5b7facb-494e-4fd4-82fe-41c3b7ff1853",
   "metadata": {},
   "outputs": [],
   "source": [
    "#Parte II: Primer Análisis Exploratorio"
   ]
  },
  {
   "cell_type": "code",
   "execution_count": 55,
   "id": "04f3d2c9-b727-42af-b834-5fb88a9a09ae",
   "metadata": {},
   "outputs": [],
   "source": [
    "import matplotlib.pyplot as plt"
   ]
  },
  {
   "cell_type": "code",
   "execution_count": 57,
   "id": "81d17a58-acb1-42db-a2b2-3d7b2cf84d48",
   "metadata": {},
   "outputs": [],
   "source": [
    "import seaborn as sns"
   ]
  },
  {
   "cell_type": "code",
   "execution_count": 91,
   "id": "458ca338-6459-48a8-afda-771870be6039",
   "metadata": {},
   "outputs": [],
   "source": [
    "import numpy as np"
   ]
  },
  {
   "cell_type": "code",
   "execution_count": 61,
   "id": "48aa98c4-0103-4f32-aa75-07fb63d4c5cf",
   "metadata": {},
   "outputs": [],
   "source": [
    "#Instalamos la biblioteca de matplot y seaborn para poder realizar gráficos visualmente agradables siguiendo las recomendaciones de Schwabish."
   ]
  },
  {
   "cell_type": "code",
   "execution_count": 149,
   "id": "1535bd5e-95b9-412a-8bbf-07cf49c6e0dc",
   "metadata": {},
   "outputs": [
    {
     "data": {
      "image/png": "[encoded data removed]",
      "text/plain": [
       "<Figure size 1200x500 with 1 Axes>"
      ]
     },
     "metadata": {},
     "output_type": "display_data"
    }
   ],
   "source": [
    "df_2004 = df_unido[df_unido[\"ANO4\"] == 2004].copy()\n",
    "df_2024 = df_unido[df_unido[\"ANO4\"] == 2024].copy()\n",
    "\n",
    "# Normalizar etiquetas\n",
    "df_2004[\"SEXO\"] = df_2004[\"SEXO\"].replace({\"Mujer\": \"Mujeres\", \"Varón\": \"Hombres\"})\n",
    "df_2024[\"SEXO\"] = df_2024[\"SEXO\"].replace({\"Hombres\": \"Hombres\", \"Mujeres\": \"Mujeres\"})\n",
    "\n",
    "# Conteo por sexo\n",
    "count_2004 = df_2004[\"SEXO\"].value_counts().reindex([\"Mujeres\", \"Hombres\"], fill_value=0)\n",
    "count_2024 = df_2024[\"SEXO\"].value_counts().reindex([\"Mujeres\", \"Hombres\"], fill_value=0)\n",
    "\n",
    "# Configurar posiciones y tamaño\n",
    "labels = ['Mujeres', 'Hombres']\n",
    "y = np.arange(len(labels))\n",
    "width = 0.35  # separación de barras\n",
    "\n",
    "fig, ax = plt.subplots(figsize=(12, 5))\n",
    "\n",
    "# Barras\n",
    "bar1 = ax.barh(y - width/2, count_2004.values, height=width, label='2004', color='#fbb4ae')\n",
    "bar2 = ax.barh(y + width/2, count_2024.values, height=width, label='2024', color='#8da0cb')\n",
    "\n",
    "# Etiquetas y estética\n",
    "ax.set_xlabel('Cantidad de personas')\n",
    "ax.set_title('Composición por sexo - Región NOA (2004 vs 2024)', fontsize=13, weight='bold')\n",
    "ax.set_yticks(y)\n",
    "ax.set_yticklabels(labels)\n",
    "ax.set_xlim(0, 6000)\n",
    "ax.invert_yaxis()  # primero Mujeres, luego Hombres\n",
    "ax.legend(loc='lower right')\n",
    "\n",
    "# Agregar números directamente sobre las barras\n",
    "for bars in [bar1, bar2]:\n",
    "    for bar in bars:\n",
    "        width = bar.get_width()\n",
    "        ax.text(width + 100, bar.get_y() + bar.get_height()/2,\n",
    "                f'{int(width):,}', va='center', fontsize=10)\n",
    "\n",
    "plt.tight_layout()\n",
    "plt.show()"
   ]
  },
  {
   "cell_type": "code",
   "execution_count": null,
   "id": "64aac5d9-58e7-4311-86ac-c8f6e308dc0b",
   "metadata": {},
   "outputs": [],
   "source": []
  }
 ],
 "metadata": {
  "kernelspec": {
   "display_name": "Python [conda env:base] *",
   "language": "python",
   "name": "conda-base-py"
  },
  "language_info": {
   "codemirror_mode": {
    "name": "ipython",
    "version": 3
   },
   "file_extension": ".py",
   "mimetype": "text/x-python",
   "name": "python",
   "nbconvert_exporter": "python",
   "pygments_lexer": "ipython3",
   "version": "3.12.7"
  }
 },
 "nbformat": 4,
 "nbformat_minor": 5
}
