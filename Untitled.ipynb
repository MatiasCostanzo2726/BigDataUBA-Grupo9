{
  "cells": [
    {
      "cell_type": "code",
      "execution_count": 1,
      "id": "60df84bb-400b-49ea-8b79-6b20e18fc84b",
      "metadata": {
        "id": "60df84bb-400b-49ea-8b79-6b20e18fc84b"
      },
      "outputs": [],
      "source": [
        "###Parte 1: Familiarizandonos con la base EPH y limpieza"
      ]
    },
    {
      "cell_type": "code",
      "execution_count": 2,
      "id": "6a38cf8e-c58f-4f0a-98fc-eea192551855",
      "metadata": {
        "collapsed": true,
        "jupyter": {
          "outputs_hidden": true
        },
        "scrolled": true,
        "colab": {
          "base_uri": "https://localhost:8080/"
        },
        "id": "6a38cf8e-c58f-4f0a-98fc-eea192551855",
        "outputId": "5d99a337-0c00-432f-cf4d-e18023030b1e"
      },
      "outputs": [
        {
          "output_type": "stream",
          "name": "stdout",
          "text": [
            "Requirement already satisfied: pandas in /usr/local/lib/python3.11/dist-packages (2.2.2)\n",
            "Requirement already satisfied: numpy>=1.23.2 in /usr/local/lib/python3.11/dist-packages (from pandas) (2.0.2)\n",
            "Requirement already satisfied: python-dateutil>=2.8.2 in /usr/local/lib/python3.11/dist-packages (from pandas) (2.8.2)\n",
            "Requirement already satisfied: pytz>=2020.1 in /usr/local/lib/python3.11/dist-packages (from pandas) (2025.2)\n",
            "Requirement already satisfied: tzdata>=2022.7 in /usr/local/lib/python3.11/dist-packages (from pandas) (2025.2)\n",
            "Requirement already satisfied: six>=1.5 in /usr/local/lib/python3.11/dist-packages (from python-dateutil>=2.8.2->pandas) (1.17.0)\n"
          ]
        }
      ],
      "source": [
        "pip install pandas"
      ]
    },
    {
      "cell_type": "code",
      "execution_count": 3,
      "id": "f6835afb-4294-4212-a61e-742017bf7ea6",
      "metadata": {
        "id": "f6835afb-4294-4212-a61e-742017bf7ea6"
      },
      "outputs": [],
      "source": [
        "import pandas as pd"
      ]
    },
    {
      "cell_type": "code",
      "execution_count": 4,
      "id": "af078d4e-1753-4c99-aee0-11cc961135d4",
      "metadata": {
        "id": "af078d4e-1753-4c99-aee0-11cc961135d4"
      },
      "outputs": [],
      "source": [
        "import os"
      ]
    },
    {
      "cell_type": "code",
      "execution_count": 5,
      "id": "2c491202-1c34-4b99-988f-d87e84973e10",
      "metadata": {
        "id": "2c491202-1c34-4b99-988f-d87e84973e10"
      },
      "outputs": [],
      "source": [
        "#Importamos los archivos del primer trimestre de la EPH de los años 2004 y 2024"
      ]
    },
    {
      "cell_type": "code",
      "execution_count": 6,
      "id": "e298eec7-275b-4886-9604-4c68a9762c7d",
      "metadata": {
        "colab": {
          "base_uri": "https://localhost:8080/",
          "height": 306
        },
        "id": "e298eec7-275b-4886-9604-4c68a9762c7d",
        "outputId": "f9400cb7-7233-405b-c9a8-0451a601daf3"
      },
      "outputs": [
        {
          "output_type": "error",
          "ename": "FileNotFoundError",
          "evalue": "[Errno 2] No such file or directory: 'C:\\\\Users\\\\Garbarino\\\\OneDrive\\\\Documentos\\\\yo\\\\BigData\\\\TP2\\\\Individual_t104.dta'",
          "traceback": [
            "\u001b[0;31m---------------------------------------------------------------------------\u001b[0m",
            "\u001b[0;31mFileNotFoundError\u001b[0m                         Traceback (most recent call last)",
            "\u001b[0;32m<ipython-input-6-02ac6ae93d2a>\u001b[0m in \u001b[0;36m<cell line: 0>\u001b[0;34m()\u001b[0m\n\u001b[0;32m----> 1\u001b[0;31m \u001b[0mdf_stata\u001b[0m \u001b[0;34m=\u001b[0m \u001b[0mpd\u001b[0m\u001b[0;34m.\u001b[0m\u001b[0mread_stata\u001b[0m\u001b[0;34m(\u001b[0m\u001b[0;34mr\"C:\\Users\\Garbarino\\OneDrive\\Documentos\\yo\\BigData\\TP2\\Individual_t104.dta\"\u001b[0m\u001b[0;34m)\u001b[0m\u001b[0;34m\u001b[0m\u001b[0;34m\u001b[0m\u001b[0m\n\u001b[0m",
            "\u001b[0;32m/usr/local/lib/python3.11/dist-packages/pandas/io/stata.py\u001b[0m in \u001b[0;36mread_stata\u001b[0;34m(filepath_or_buffer, convert_dates, convert_categoricals, index_col, convert_missing, preserve_dtypes, columns, order_categoricals, chunksize, iterator, compression, storage_options)\u001b[0m\n\u001b[1;32m   2107\u001b[0m \u001b[0;34m\u001b[0m\u001b[0m\n\u001b[1;32m   2108\u001b[0m     \u001b[0;32mwith\u001b[0m \u001b[0mreader\u001b[0m\u001b[0;34m:\u001b[0m\u001b[0;34m\u001b[0m\u001b[0;34m\u001b[0m\u001b[0m\n\u001b[0;32m-> 2109\u001b[0;31m         \u001b[0;32mreturn\u001b[0m \u001b[0mreader\u001b[0m\u001b[0;34m.\u001b[0m\u001b[0mread\u001b[0m\u001b[0;34m(\u001b[0m\u001b[0;34m)\u001b[0m\u001b[0;34m\u001b[0m\u001b[0;34m\u001b[0m\u001b[0m\n\u001b[0m\u001b[1;32m   2110\u001b[0m \u001b[0;34m\u001b[0m\u001b[0m\n\u001b[1;32m   2111\u001b[0m \u001b[0;34m\u001b[0m\u001b[0m\n",
            "\u001b[0;32m/usr/local/lib/python3.11/dist-packages/pandas/io/stata.py\u001b[0m in \u001b[0;36mread\u001b[0;34m(self, nrows, convert_dates, convert_categoricals, index_col, convert_missing, preserve_dtypes, columns, order_categoricals)\u001b[0m\n\u001b[1;32m   1681\u001b[0m         \u001b[0morder_categoricals\u001b[0m\u001b[0;34m:\u001b[0m \u001b[0mbool\u001b[0m \u001b[0;34m|\u001b[0m \u001b[0;32mNone\u001b[0m \u001b[0;34m=\u001b[0m \u001b[0;32mNone\u001b[0m\u001b[0;34m,\u001b[0m\u001b[0;34m\u001b[0m\u001b[0;34m\u001b[0m\u001b[0m\n\u001b[1;32m   1682\u001b[0m     ) -> DataFrame:\n\u001b[0;32m-> 1683\u001b[0;31m         \u001b[0mself\u001b[0m\u001b[0;34m.\u001b[0m\u001b[0m_ensure_open\u001b[0m\u001b[0;34m(\u001b[0m\u001b[0;34m)\u001b[0m\u001b[0;34m\u001b[0m\u001b[0;34m\u001b[0m\u001b[0m\n\u001b[0m\u001b[1;32m   1684\u001b[0m \u001b[0;34m\u001b[0m\u001b[0m\n\u001b[1;32m   1685\u001b[0m         \u001b[0;31m# Handle options\u001b[0m\u001b[0;34m\u001b[0m\u001b[0;34m\u001b[0m\u001b[0m\n",
            "\u001b[0;32m/usr/local/lib/python3.11/dist-packages/pandas/io/stata.py\u001b[0m in \u001b[0;36m_ensure_open\u001b[0;34m(self)\u001b[0m\n\u001b[1;32m   1173\u001b[0m         \"\"\"\n\u001b[1;32m   1174\u001b[0m         \u001b[0;32mif\u001b[0m \u001b[0;32mnot\u001b[0m \u001b[0mhasattr\u001b[0m\u001b[0;34m(\u001b[0m\u001b[0mself\u001b[0m\u001b[0;34m,\u001b[0m \u001b[0;34m\"_path_or_buf\"\u001b[0m\u001b[0;34m)\u001b[0m\u001b[0;34m:\u001b[0m\u001b[0;34m\u001b[0m\u001b[0;34m\u001b[0m\u001b[0m\n\u001b[0;32m-> 1175\u001b[0;31m             \u001b[0mself\u001b[0m\u001b[0;34m.\u001b[0m\u001b[0m_open_file\u001b[0m\u001b[0;34m(\u001b[0m\u001b[0;34m)\u001b[0m\u001b[0;34m\u001b[0m\u001b[0;34m\u001b[0m\u001b[0m\n\u001b[0m\u001b[1;32m   1176\u001b[0m \u001b[0;34m\u001b[0m\u001b[0m\n\u001b[1;32m   1177\u001b[0m     \u001b[0;32mdef\u001b[0m \u001b[0m_open_file\u001b[0m\u001b[0;34m(\u001b[0m\u001b[0mself\u001b[0m\u001b[0;34m)\u001b[0m \u001b[0;34m->\u001b[0m \u001b[0;32mNone\u001b[0m\u001b[0;34m:\u001b[0m\u001b[0;34m\u001b[0m\u001b[0;34m\u001b[0m\u001b[0m\n",
            "\u001b[0;32m/usr/local/lib/python3.11/dist-packages/pandas/io/stata.py\u001b[0m in \u001b[0;36m_open_file\u001b[0;34m(self)\u001b[0m\n\u001b[1;32m   1186\u001b[0m                 \u001b[0mstacklevel\u001b[0m\u001b[0;34m=\u001b[0m\u001b[0mfind_stack_level\u001b[0m\u001b[0;34m(\u001b[0m\u001b[0;34m)\u001b[0m\u001b[0;34m,\u001b[0m\u001b[0;34m\u001b[0m\u001b[0;34m\u001b[0m\u001b[0m\n\u001b[1;32m   1187\u001b[0m             )\n\u001b[0;32m-> 1188\u001b[0;31m         handles = get_handle(\n\u001b[0m\u001b[1;32m   1189\u001b[0m             \u001b[0mself\u001b[0m\u001b[0;34m.\u001b[0m\u001b[0m_original_path_or_buf\u001b[0m\u001b[0;34m,\u001b[0m\u001b[0;34m\u001b[0m\u001b[0;34m\u001b[0m\u001b[0m\n\u001b[1;32m   1190\u001b[0m             \u001b[0;34m\"rb\"\u001b[0m\u001b[0;34m,\u001b[0m\u001b[0;34m\u001b[0m\u001b[0;34m\u001b[0m\u001b[0m\n",
            "\u001b[0;32m/usr/local/lib/python3.11/dist-packages/pandas/io/common.py\u001b[0m in \u001b[0;36mget_handle\u001b[0;34m(path_or_buf, mode, encoding, compression, memory_map, is_text, errors, storage_options)\u001b[0m\n\u001b[1;32m    880\u001b[0m         \u001b[0;32melse\u001b[0m\u001b[0;34m:\u001b[0m\u001b[0;34m\u001b[0m\u001b[0;34m\u001b[0m\u001b[0m\n\u001b[1;32m    881\u001b[0m             \u001b[0;31m# Binary mode\u001b[0m\u001b[0;34m\u001b[0m\u001b[0;34m\u001b[0m\u001b[0m\n\u001b[0;32m--> 882\u001b[0;31m             \u001b[0mhandle\u001b[0m \u001b[0;34m=\u001b[0m \u001b[0mopen\u001b[0m\u001b[0;34m(\u001b[0m\u001b[0mhandle\u001b[0m\u001b[0;34m,\u001b[0m \u001b[0mioargs\u001b[0m\u001b[0;34m.\u001b[0m\u001b[0mmode\u001b[0m\u001b[0;34m)\u001b[0m\u001b[0;34m\u001b[0m\u001b[0;34m\u001b[0m\u001b[0m\n\u001b[0m\u001b[1;32m    883\u001b[0m         \u001b[0mhandles\u001b[0m\u001b[0;34m.\u001b[0m\u001b[0mappend\u001b[0m\u001b[0;34m(\u001b[0m\u001b[0mhandle\u001b[0m\u001b[0;34m)\u001b[0m\u001b[0;34m\u001b[0m\u001b[0;34m\u001b[0m\u001b[0m\n\u001b[1;32m    884\u001b[0m \u001b[0;34m\u001b[0m\u001b[0m\n",
            "\u001b[0;31mFileNotFoundError\u001b[0m: [Errno 2] No such file or directory: 'C:\\\\Users\\\\Garbarino\\\\OneDrive\\\\Documentos\\\\yo\\\\BigData\\\\TP2\\\\Individual_t104.dta'"
          ]
        }
      ],
      "source": [
        "df_stata = pd.read_stata(r\"C:\\Users\\Garbarino\\OneDrive\\Documentos\\yo\\BigData\\TP2\\Individual_t104.dta\")"
      ]
    },
    {
      "cell_type": "code",
      "execution_count": null,
      "id": "cf2c24c5-1e52-40c9-b67f-923a6316d09c",
      "metadata": {
        "collapsed": true,
        "jupyter": {
          "outputs_hidden": true
        },
        "id": "cf2c24c5-1e52-40c9-b67f-923a6316d09c"
      },
      "outputs": [],
      "source": [
        "#Imprimimos las columnas para poder elegir la región\n",
        "print(df_stata.columns)"
      ]
    },
    {
      "cell_type": "code",
      "execution_count": null,
      "id": "8a6db7cb-895b-4b69-b12a-089db9c80fcd",
      "metadata": {
        "id": "8a6db7cb-895b-4b69-b12a-089db9c80fcd"
      },
      "outputs": [],
      "source": [
        "df_stata.rename(columns=str.upper, inplace=True)\n",
        "#Renombramos la columna así coincide con la EPH del 2024"
      ]
    },
    {
      "cell_type": "code",
      "execution_count": null,
      "id": "03860a86-0ab0-4d5a-bed7-8cbe5b330074",
      "metadata": {
        "collapsed": true,
        "jupyter": {
          "outputs_hidden": true
        },
        "scrolled": true,
        "id": "03860a86-0ab0-4d5a-bed7-8cbe5b330074"
      },
      "outputs": [],
      "source": [
        "print(df_stata.columns)"
      ]
    },
    {
      "cell_type": "code",
      "execution_count": null,
      "id": "f4c8af5f-b218-45b9-9df2-3be0fc5ac128",
      "metadata": {
        "id": "f4c8af5f-b218-45b9-9df2-3be0fc5ac128"
      },
      "outputs": [],
      "source": [
        "df_excel = pd.read_excel(r\"C:\\Users\\Garbarino\\OneDrive\\Documentos\\yo\\BigData\\TP2\\usu_individual_T124.xlsx\")"
      ]
    },
    {
      "cell_type": "code",
      "execution_count": null,
      "id": "60dfe54d-21a1-4541-807d-77f59e0505e3",
      "metadata": {
        "collapsed": true,
        "jupyter": {
          "outputs_hidden": true
        },
        "id": "60dfe54d-21a1-4541-807d-77f59e0505e3"
      },
      "outputs": [],
      "source": [
        "print(df_excel.columns)"
      ]
    },
    {
      "cell_type": "code",
      "execution_count": null,
      "id": "af5523fc-6fb3-4d1a-ad27-2af9003e0de4",
      "metadata": {
        "id": "af5523fc-6fb3-4d1a-ad27-2af9003e0de4"
      },
      "outputs": [],
      "source": [
        "#Indicamos la región elegida, en la EPH del 2004 debemos tomarlo como NOA y la del 2024 por su código.\n",
        "df_excel_noa = df_excel[df_excel[\"REGION\"] == 40]\n",
        "df_stata_noa = df_stata[df_stata[\"REGION\"] == \"NOA\"]"
      ]
    },
    {
      "cell_type": "code",
      "execution_count": null,
      "id": "82b6d850-12ae-49f9-bfee-05b7b4ee204b",
      "metadata": {
        "id": "82b6d850-12ae-49f9-bfee-05b7b4ee204b"
      },
      "outputs": [],
      "source": [
        "variables_interes = [\n",
        "    \"CH04\", \"CH06\", \"CH07\", \"CH08\", \"CH10\", \"CH11\", \"CH12\", \"CH13\",\n",
        "    \"NIVEL_ED\", \"ESTADO\", \"CAT_OCUP\", \"CAT_INAC\",\n",
        "    \"PP02H\", \"PP02I\", \"P47T\"\n",
        "]"
      ]
    },
    {
      "cell_type": "code",
      "execution_count": null,
      "id": "a5cbe535-9610-4eb0-b633-80a4c9a4509b",
      "metadata": {
        "collapsed": true,
        "jupyter": {
          "outputs_hidden": true
        },
        "id": "a5cbe535-9610-4eb0-b633-80a4c9a4509b"
      },
      "outputs": [],
      "source": [
        "print(df_stata_noa.columns.tolist())"
      ]
    },
    {
      "cell_type": "code",
      "execution_count": null,
      "id": "935f4b63-0456-4f93-b7dd-82bd6fcbfd3c",
      "metadata": {
        "id": "935f4b63-0456-4f93-b7dd-82bd6fcbfd3c"
      },
      "outputs": [],
      "source": [
        "#Unimos (append) las bases en una sola base de datos y reiniciamos los índices para que queden en orden\n",
        "df_stata_noa = df_stata_noa[variables_interes]\n",
        "df_excel_noa = df_excel_noa[variables_interes]"
      ]
    },
    {
      "cell_type": "code",
      "execution_count": null,
      "id": "d0dd7274-dfe9-4c8e-ac77-3bc6bb7b835a",
      "metadata": {
        "id": "d0dd7274-dfe9-4c8e-ac77-3bc6bb7b835a"
      },
      "outputs": [],
      "source": [
        "#Agregamos una columna que nos indique a qué año pertenece cada dato\n",
        "df_stata_noa[\"ANO4\"] = 2004\n",
        "df_excel_noa[\"ANO4\"] = 2024"
      ]
    },
    {
      "cell_type": "code",
      "execution_count": null,
      "id": "4e4ab9d2-cd63-474f-b736-44156f9fd6ed",
      "metadata": {
        "id": "4e4ab9d2-cd63-474f-b736-44156f9fd6ed"
      },
      "outputs": [],
      "source": [
        "df_unido = pd.concat([df_stata_noa, df_excel_noa], ignore_index=True)"
      ]
    },
    {
      "cell_type": "code",
      "execution_count": null,
      "id": "b0875751-2c6d-475a-858c-fa1b86547077",
      "metadata": {
        "collapsed": true,
        "jupyter": {
          "outputs_hidden": true
        },
        "scrolled": true,
        "id": "b0875751-2c6d-475a-858c-fa1b86547077"
      },
      "outputs": [],
      "source": [
        "#usamos display para observar que se hayan unido correctamente\n",
        "display(df_unido)"
      ]
    },
    {
      "cell_type": "code",
      "execution_count": null,
      "id": "900c620b-7fc8-42d2-b5a3-07ed6fd660d8",
      "metadata": {
        "id": "900c620b-7fc8-42d2-b5a3-07ed6fd660d8"
      },
      "outputs": [],
      "source": [
        "#exportamos como un excel para corroborar que los datos y las columnas estén bien distribuidas\n",
        "df_unido.to_excel(\"df_unido.xlsx\", index=False)"
      ]
    },
    {
      "cell_type": "code",
      "execution_count": null,
      "id": "5171b8c5-bdf6-4ef6-9f59-5fd2e486be2d",
      "metadata": {
        "collapsed": true,
        "jupyter": {
          "outputs_hidden": true
        },
        "id": "5171b8c5-bdf6-4ef6-9f59-5fd2e486be2d"
      },
      "outputs": [],
      "source": [
        "###Las variables elegidas y su significado según el \"Diseño de Registro y Estructura para las bases de Microdatos\"\n",
        "#Variable Significado\n",
        "#CH04\tSexo\n",
        "#CH06\tEdad\n",
        "CH07\tEstado civil\n",
        "CH08\tCobertura médica\n",
        "CH10\tAsistencia establecimiento educativo\n",
        "CH11\tTipo de establecimiento\n",
        "CH12\tNivel más alto completado\n",
        "CH13\t¿Finalizó?\n",
        "NIVEL_ED\tNivel educativo\n",
        "ESTADO\tCondición de actividad (ocupado, desocupado, inactivo)\n",
        "CAT_OCUP\tCategoría ocupacional\n",
        "CAT_INAC\tCategoría de inactividad\n",
        "PP02H\tEn los últimos 12 meses ¿buscó trabajo en algún momento?\n",
        "PP02I\tEn los últimos 12 meses ¿trabajó en algún momento?\n",
        "P47T\tIngreso total individual"
      ]
    },
    {
      "cell_type": "code",
      "execution_count": null,
      "id": "79cc13f9-7920-4ad1-a0b4-16d586a8ddd8",
      "metadata": {
        "id": "79cc13f9-7920-4ad1-a0b4-16d586a8ddd8"
      },
      "outputs": [],
      "source": [
        "#usamos un count para saber cuántos datos son NaN\n",
        "nan_count_by_year = df_unido.groupby(\"ANO4\")[variables_interes].apply(lambda x: x.isna().sum())\n",
        "\n",
        "print(nan_count_by_year)"
      ]
    },
    {
      "cell_type": "code",
      "execution_count": null,
      "id": "1144a735-3063-4c35-a24b-54254ad89b5b",
      "metadata": {
        "id": "1144a735-3063-4c35-a24b-54254ad89b5b"
      },
      "outputs": [],
      "source": [
        "### Se puede observar que en todas las categorías utilizadas no hay resultados faltantes, a excepción del 2024, en el indicador P47T, en el cual hay 9 valores faltantes."
      ]
    },
    {
      "cell_type": "code",
      "execution_count": null,
      "id": "c5b7facb-494e-4fd4-82fe-41c3b7ff1853",
      "metadata": {
        "id": "c5b7facb-494e-4fd4-82fe-41c3b7ff1853"
      },
      "outputs": [],
      "source": [
        "#Parte II: Primer Análisis Exploratorio"
      ]
    },
    {
      "cell_type": "code",
      "execution_count": 9,
      "id": "04f3d2c9-b727-42af-b834-5fb88a9a09ae",
      "metadata": {
        "id": "04f3d2c9-b727-42af-b834-5fb88a9a09ae"
      },
      "outputs": [],
      "source": [
        "import matplotlib.pyplot as plt"
      ]
    },
    {
      "cell_type": "code",
      "execution_count": 10,
      "id": "81d17a58-acb1-42db-a2b2-3d7b2cf84d48",
      "metadata": {
        "id": "81d17a58-acb1-42db-a2b2-3d7b2cf84d48"
      },
      "outputs": [],
      "source": [
        "import seaborn as sns"
      ]
    },
    {
      "cell_type": "code",
      "execution_count": 12,
      "id": "458ca338-6459-48a8-afda-771870be6039",
      "metadata": {
        "id": "458ca338-6459-48a8-afda-771870be6039"
      },
      "outputs": [],
      "source": [
        "import numpy as np"
      ]
    },
    {
      "cell_type": "code",
      "execution_count": null,
      "id": "48aa98c4-0103-4f32-aa75-07fb63d4c5cf",
      "metadata": {
        "id": "48aa98c4-0103-4f32-aa75-07fb63d4c5cf"
      },
      "outputs": [],
      "source": [
        "#Instalamos la biblioteca de matplot y seaborn para poder realizar gráficos visualmente agradables siguiendo las recomendaciones de Schwabish."
      ]
    },
    {
      "cell_type": "code",
      "execution_count": 13,
      "id": "1535bd5e-95b9-412a-8bbf-07cf49c6e0dc",
      "metadata": {
        "colab": {
          "base_uri": "https://localhost:8080/",
          "height": 225
        },
        "id": "1535bd5e-95b9-412a-8bbf-07cf49c6e0dc",
        "outputId": "f98f4d73-5a40-44ca-de75-ab9307bd9d80"
      },
      "outputs": [
        {
          "output_type": "error",
          "ename": "NameError",
          "evalue": "name 'df_unido' is not defined",
          "traceback": [
            "\u001b[0;31m---------------------------------------------------------------------------\u001b[0m",
            "\u001b[0;31mNameError\u001b[0m                                 Traceback (most recent call last)",
            "\u001b[0;32m<ipython-input-13-7a28eafef02f>\u001b[0m in \u001b[0;36m<cell line: 0>\u001b[0;34m()\u001b[0m\n\u001b[0;32m----> 1\u001b[0;31m \u001b[0mdf_2004\u001b[0m \u001b[0;34m=\u001b[0m \u001b[0mdf_unido\u001b[0m\u001b[0;34m[\u001b[0m\u001b[0mdf_unido\u001b[0m\u001b[0;34m[\u001b[0m\u001b[0;34m\"ANO4\"\u001b[0m\u001b[0;34m]\u001b[0m \u001b[0;34m==\u001b[0m \u001b[0;36m2004\u001b[0m\u001b[0;34m]\u001b[0m\u001b[0;34m.\u001b[0m\u001b[0mcopy\u001b[0m\u001b[0;34m(\u001b[0m\u001b[0;34m)\u001b[0m\u001b[0;34m\u001b[0m\u001b[0;34m\u001b[0m\u001b[0m\n\u001b[0m\u001b[1;32m      2\u001b[0m \u001b[0mdf_2024\u001b[0m \u001b[0;34m=\u001b[0m \u001b[0mdf_unido\u001b[0m\u001b[0;34m[\u001b[0m\u001b[0mdf_unido\u001b[0m\u001b[0;34m[\u001b[0m\u001b[0;34m\"ANO4\"\u001b[0m\u001b[0;34m]\u001b[0m \u001b[0;34m==\u001b[0m \u001b[0;36m2024\u001b[0m\u001b[0;34m]\u001b[0m\u001b[0;34m.\u001b[0m\u001b[0mcopy\u001b[0m\u001b[0;34m(\u001b[0m\u001b[0;34m)\u001b[0m\u001b[0;34m\u001b[0m\u001b[0;34m\u001b[0m\u001b[0m\n\u001b[1;32m      3\u001b[0m \u001b[0;34m\u001b[0m\u001b[0m\n\u001b[1;32m      4\u001b[0m \u001b[0;31m# Normalizar etiquetas\u001b[0m\u001b[0;34m\u001b[0m\u001b[0;34m\u001b[0m\u001b[0m\n\u001b[1;32m      5\u001b[0m \u001b[0mdf_2004\u001b[0m\u001b[0;34m[\u001b[0m\u001b[0;34m\"SEXO\"\u001b[0m\u001b[0;34m]\u001b[0m \u001b[0;34m=\u001b[0m \u001b[0mdf_2004\u001b[0m\u001b[0;34m[\u001b[0m\u001b[0;34m\"SEXO\"\u001b[0m\u001b[0;34m]\u001b[0m\u001b[0;34m.\u001b[0m\u001b[0mreplace\u001b[0m\u001b[0;34m(\u001b[0m\u001b[0;34m{\u001b[0m\u001b[0;34m\"Mujer\"\u001b[0m\u001b[0;34m:\u001b[0m \u001b[0;34m\"Mujeres\"\u001b[0m\u001b[0;34m,\u001b[0m \u001b[0;34m\"Varón\"\u001b[0m\u001b[0;34m:\u001b[0m \u001b[0;34m\"Hombres\"\u001b[0m\u001b[0;34m}\u001b[0m\u001b[0;34m)\u001b[0m\u001b[0;34m\u001b[0m\u001b[0;34m\u001b[0m\u001b[0m\n",
            "\u001b[0;31mNameError\u001b[0m: name 'df_unido' is not defined"
          ]
        }
      ],
      "source": [
        "df_2004 = df_unido[df_unido[\"ANO4\"] == 2004].copy()\n",
        "df_2024 = df_unido[df_unido[\"ANO4\"] == 2024].copy()\n",
        "\n",
        "# Normalizar etiquetas\n",
        "df_2004[\"SEXO\"] = df_2004[\"SEXO\"].replace({\"Mujer\": \"Mujeres\", \"Varón\": \"Hombres\"})\n",
        "df_2024[\"SEXO\"] = df_2024[\"SEXO\"].replace({\"Hombres\": \"Hombres\", \"Mujeres\": \"Mujeres\"})\n",
        "\n",
        "# Conteo por sexo\n",
        "count_2004 = df_2004[\"SEXO\"].value_counts().reindex([\"Mujeres\", \"Hombres\"], fill_value=0)\n",
        "count_2024 = df_2024[\"SEXO\"].value_counts().reindex([\"Mujeres\", \"Hombres\"], fill_value=0)\n",
        "\n",
        "# Configurar posiciones y tamaño\n",
        "labels = ['Mujeres', 'Hombres']\n",
        "y = np.arange(len(labels))\n",
        "width = 0.35  # separación de barras\n",
        "\n",
        "fig, ax = plt.subplots(figsize=(12, 5))\n",
        "\n",
        "# Barras\n",
        "bar1 = ax.barh(y - width/2, count_2004.values, height=width, label='2004', color='#fbb4ae')\n",
        "bar2 = ax.barh(y + width/2, count_2024.values, height=width, label='2024', color='#8da0cb')\n",
        "\n",
        "# Etiquetas y estética\n",
        "ax.set_xlabel('Cantidad de personas')\n",
        "ax.set_title('Composición por sexo - Región NOA (2004 vs 2024)', fontsize=13, weight='bold')\n",
        "ax.set_yticks(y)\n",
        "ax.set_yticklabels(labels)\n",
        "ax.set_xlim(0, 6000)\n",
        "ax.invert_yaxis()  # primero Mujeres, luego Hombres\n",
        "ax.legend(loc='lower right')\n",
        "\n",
        "# Agregar números directamente sobre las barras\n",
        "for bars in [bar1, bar2]:\n",
        "    for bar in bars:\n",
        "        width = bar.get_width()\n",
        "        ax.text(width + 100, bar.get_y() + bar.get_height()/2,\n",
        "                f'{int(width):,}', va='center', fontsize=10)\n",
        "\n",
        "plt.tight_layout()\n",
        "plt.show()"
      ]
    },
    {
      "cell_type": "code",
      "execution_count": null,
      "id": "64aac5d9-58e7-4311-86ac-c8f6e308dc0b",
      "metadata": {
        "id": "64aac5d9-58e7-4311-86ac-c8f6e308dc0b"
      },
      "outputs": [],
      "source": [
        "#Hacemos la matriz de correlación para 2024 y 2024 con variables"
      ]
    },
    {
      "cell_type": "code",
      "source": [
        "# Variables que nos interesan\n",
        "variables = ['CH04', 'CH06', 'CH07', 'CH08', 'NIVEL_ED', 'ESTADO', 'CAT_INAC', 'IPCF']\n",
        "\n",
        "# Filtrar bases por año\n",
        "df_2004 = df[df['ANO4'] == 2004]\n",
        "df_2024 = df[df['ANO4'] == 2024]\n",
        "\n",
        "# Matriz de correlación 2004\n",
        "corr_2004 = df_2004[variables].corr()\n",
        "\n",
        "# Heatmap completo 2004\n",
        "plt.figure(figsize=(8,6))\n",
        "sns.heatmap(corr_2004, vmin=-1, vmax=+1, annot=True, cmap=\"coolwarm\")\n",
        "plt.title('Matriz de Correlación - 2004')\n",
        "plt.show()\n",
        "\n",
        "# Matriz de correlación 2024\n",
        "corr_2024 = df_2024[variables].corr()\n",
        "\n",
        "# Heatmap completo 2024\n",
        "plt.figure(figsize=(8,6))\n",
        "sns.heatmap(corr_2024, vmin=-1, vmax=+1, annot=True, cmap=\"coolwarm\")\n",
        "plt.title('Matriz de Correlación - 2024')\n",
        "plt.show()\n",
        "\n",
        "# (Opcional) Heatmap triangular 2024\n",
        "mask = np.triu(np.ones_like(corr_2024, dtype=bool))\n",
        "plt.figure(figsize=(8,6))\n",
        "sns.heatmap(corr_2024, mask=mask, vmin=-1, vmax=+1, annot=True, cmap=\"coolwarm\")\n",
        "plt.title('Matriz de Correlación Triangular - 2024')\n",
        "plt.show()"
      ],
      "metadata": {
        "collapsed": true,
        "id": "H2puX7r9sKFY",
        "outputId": "8199d14c-70e3-49e0-9b08-051f13d06192",
        "colab": {
          "base_uri": "https://localhost:8080/",
          "height": 225
        }
      },
      "id": "H2puX7r9sKFY",
      "execution_count": 7,
      "outputs": [
        {
          "output_type": "error",
          "ename": "NameError",
          "evalue": "name 'df_2004' is not defined",
          "traceback": [
            "\u001b[0;31m---------------------------------------------------------------------------\u001b[0m",
            "\u001b[0;31mNameError\u001b[0m                                 Traceback (most recent call last)",
            "\u001b[0;32m<ipython-input-7-7545e49f8e51>\u001b[0m in \u001b[0;36m<cell line: 0>\u001b[0;34m()\u001b[0m\n\u001b[1;32m      1\u001b[0m \u001b[0mvariables\u001b[0m \u001b[0;34m=\u001b[0m \u001b[0;34m[\u001b[0m\u001b[0;34m'CH04'\u001b[0m\u001b[0;34m,\u001b[0m \u001b[0;34m'CH06'\u001b[0m\u001b[0;34m,\u001b[0m \u001b[0;34m'CH07'\u001b[0m\u001b[0;34m,\u001b[0m \u001b[0;34m'CH08'\u001b[0m\u001b[0;34m,\u001b[0m \u001b[0;34m'NIVEL_ED'\u001b[0m\u001b[0;34m,\u001b[0m \u001b[0;34m'ESTADO'\u001b[0m\u001b[0;34m,\u001b[0m \u001b[0;34m'CAT_INAC'\u001b[0m\u001b[0;34m,\u001b[0m \u001b[0;34m'IPCF'\u001b[0m\u001b[0;34m]\u001b[0m\u001b[0;34m\u001b[0m\u001b[0;34m\u001b[0m\u001b[0m\n\u001b[1;32m      2\u001b[0m \u001b[0;34m\u001b[0m\u001b[0m\n\u001b[0;32m----> 3\u001b[0;31m \u001b[0mcorr_2004\u001b[0m \u001b[0;34m=\u001b[0m \u001b[0mdf_2004\u001b[0m\u001b[0;34m[\u001b[0m\u001b[0mvariables\u001b[0m\u001b[0;34m]\u001b[0m\u001b[0;34m.\u001b[0m\u001b[0mcorr\u001b[0m\u001b[0;34m(\u001b[0m\u001b[0;34m)\u001b[0m\u001b[0;34m\u001b[0m\u001b[0;34m\u001b[0m\u001b[0m\n\u001b[0m\u001b[1;32m      4\u001b[0m \u001b[0mcorr_2024\u001b[0m \u001b[0;34m=\u001b[0m \u001b[0mdf_2024\u001b[0m\u001b[0;34m[\u001b[0m\u001b[0mvariables\u001b[0m\u001b[0;34m]\u001b[0m\u001b[0;34m.\u001b[0m\u001b[0mcorr\u001b[0m\u001b[0;34m(\u001b[0m\u001b[0;34m)\u001b[0m\u001b[0;34m\u001b[0m\u001b[0;34m\u001b[0m\u001b[0m\n\u001b[1;32m      5\u001b[0m \u001b[0;34m\u001b[0m\u001b[0m\n",
            "\u001b[0;31mNameError\u001b[0m: name 'df_2004' is not defined"
          ]
        }
      ]
    },
    {
      "cell_type": "code",
      "source": [
        "#Resultados obtenidos de la correlación: Correlaciones fuertes positivas\n",
        "\n",
        "#CH06 (Edad) y CH08 (Cobertura de salud): +0.90\n",
        "#Cuanto mayor es la edad, más probable es tener mejor cobertura.\n",
        "\n",
        "#ESTADO y CAT_INAC: +0.78\n",
        "#Lógica: quienes son inactivos tienen su categoría de inactividad bien definida.\n",
        "\n",
        "#CAT_INAC y IPCF: +0.62\n",
        "#Algunos tipos de inactividad (como jubilación) se asocian a ingresos relativamente estables.\n",
        "\n",
        "#Correlaciones fuertes negativas\n",
        "\n",
        "#CH07 (Estado civil) y CAT_INAC: -0.94\n",
        "#Personas con distintos estados civiles tienden a estar más o menos inactivos.\n",
        "\n",
        "#CH07 y CH08 (Cobertura): -0.80\n",
        "#Dependiendo del estado civil, cambia la cobertura. Por ejemplo, personas solteras o separadas tienden a tener menos cobertura formal.\n",
        "\n",
        "#CH04 (Sexo) y IPCF: -0.73\n",
        "#Las mujeres, en este caso, parecen tener menor ingreso per cápita que los varones.\n",
        "\n",
        "\n",
        "#NIVEL_ED y IPCF: +0.10\n",
        "#Relación débil, pero positiva. Sugeriría que, en esta muestra chica, el nivel educativo no explica fuertemente el ingreso.\n",
        "\n",
        "#ESTADO y IPCF: +0.45\n",
        "#Las personas ocupadas tienen mejores ingresos."
      ],
      "metadata": {
        "id": "hXOp70apuFoD"
      },
      "id": "hXOp70apuFoD",
      "execution_count": null,
      "outputs": []
    },
    {
      "cell_type": "code",
      "source": [
        "#PARTE 3"
      ],
      "metadata": {
        "id": "8NAs1PgywySA"
      },
      "id": "8NAs1PgywySA",
      "execution_count": null,
      "outputs": []
    },
    {
      "cell_type": "code",
      "source": [
        "# Contamos cuántas personas no respondieron su condición de actividad (ESTADO = 0)\n",
        "no_respondieron_count = (df_unido[\"ESTADO\"] == 0).sum()\n",
        "print(f\"Cantidad de personas que no respondieron su condición de actividad: {no_respondieron_count}\")\n",
        "\n",
        "# Creamos las bases\n",
        "respondieron = df_unido[df_unido[\"ESTADO\"] != 0].copy()\n",
        "norespondieron = df_unido[df_unido[\"ESTADO\"] == 0].copy()\n",
        "\n",
        "# Verificamos el tamaño de cada base\n",
        "print(f\"Total en base original: {len(df_unido)}\")\n",
        "print(f\"Total que respondieron: {len(respondieron)}\")\n",
        "print(f\"Total que no respondieron: {len(norespondieron)}\")\n",
        "\n",
        "# Guardamos a Excel\n",
        "# respondieron.to_excel(\"respondieron.xlsx\", index=False)\n",
        "# norespondieron.to_excel(\"norespondieron.xlsx\", index=False)"
      ],
      "metadata": {
        "id": "jAIFT6o0wz_Y"
      },
      "id": "jAIFT6o0wz_Y",
      "execution_count": null,
      "outputs": []
    },
    {
      "cell_type": "code",
      "source": [
        "# Agregamos la columna PEA\n",
        "respondieron[\"PEA\"] = respondieron[\"ESTADO\"].apply(lambda x: 1 if x in [1, 2] else 0)\n",
        "\n",
        "# Verificamos\n",
        "print(respondieron[[\"ESTADO\", \"PEA\"]].head())"
      ],
      "metadata": {
        "id": "HtSVSDz_w_jS"
      },
      "id": "HtSVSDz_w_jS",
      "execution_count": null,
      "outputs": []
    },
    {
      "cell_type": "code",
      "source": [
        "# Conteo de PEA por año\n",
        "pea_counts = respondieron.groupby([\"ANO4\", \"PEA\"]).size().unstack()\n",
        "\n",
        "# Configuración del gráfico\n",
        "pea_counts.plot(kind=\"bar\", stacked=True, color=[\"#a6cee3\", \"#1f78b4\"], figsize=(8,5))\n",
        "\n",
        "plt.title(\"Composición por PEA - Región NOA (2004 vs 2024)\", fontsize=13, weight='bold')\n",
        "plt.xlabel(\"Año\")\n",
        "plt.ylabel(\"Cantidad de personas\")\n",
        "plt.legend([\"No PEA (Inactivos)\", \"PEA (Activos)\"], loc=\"upper left\")\n",
        "plt.xticks(rotation=0)\n",
        "plt.tight_layout()\n",
        "plt.show()"
      ],
      "metadata": {
        "id": "kQtKOMWFxAC7"
      },
      "id": "kQtKOMWFxAC7",
      "execution_count": null,
      "outputs": []
    }
  ],
  "metadata": {
    "kernelspec": {
      "display_name": "Python [conda env:base] *",
      "language": "python",
      "name": "conda-base-py"
    },
    "language_info": {
      "codemirror_mode": {
        "name": "ipython",
        "version": 3
      },
      "file_extension": ".py",
      "mimetype": "text/x-python",
      "name": "python",
      "nbconvert_exporter": "python",
      "pygments_lexer": "ipython3",
      "version": "3.12.7"
    },
    "colab": {
      "provenance": []
    }
  },
  "nbformat": 4,
  "nbformat_minor": 5
}