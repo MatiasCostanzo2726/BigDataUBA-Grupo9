{
  "cells": [
    {
      "cell_type": "code",
      "execution_count": 18,
      "id": "60df84bb-400b-49ea-8b79-6b20e18fc84b",
      "metadata": {
        "id": "60df84bb-400b-49ea-8b79-6b20e18fc84b"
      },
      "outputs": [],
      "source": [
        "###Parte 1: Familiarizandonos con la base EPH y limpieza"
      ]
    },
    {
      "cell_type": "code",
      "execution_count": 19,
      "id": "6a38cf8e-c58f-4f0a-98fc-eea192551855",
      "metadata": {
        "collapsed": true,
        "jupyter": {
          "outputs_hidden": true
        },
        "scrolled": true,
        "id": "6a38cf8e-c58f-4f0a-98fc-eea192551855",
        "outputId": "59238088-ab55-4939-b3c1-b6facab681cf",
        "colab": {
          "base_uri": "https://localhost:8080/"
        }
      },
      "outputs": [
        {
          "output_type": "stream",
          "name": "stdout",
          "text": [
            "Requirement already satisfied: pandas in /usr/local/lib/python3.11/dist-packages (2.2.2)\n",
            "Requirement already satisfied: numpy>=1.23.2 in /usr/local/lib/python3.11/dist-packages (from pandas) (2.0.2)\n",
            "Requirement already satisfied: python-dateutil>=2.8.2 in /usr/local/lib/python3.11/dist-packages (from pandas) (2.8.2)\n",
            "Requirement already satisfied: pytz>=2020.1 in /usr/local/lib/python3.11/dist-packages (from pandas) (2025.2)\n",
            "Requirement already satisfied: tzdata>=2022.7 in /usr/local/lib/python3.11/dist-packages (from pandas) (2025.2)\n",
            "Requirement already satisfied: six>=1.5 in /usr/local/lib/python3.11/dist-packages (from python-dateutil>=2.8.2->pandas) (1.17.0)\n"
          ]
        }
      ],
      "source": [
        "pip install pandas"
      ]
    },
    {
      "cell_type": "code",
      "execution_count": 20,
      "id": "f6835afb-4294-4212-a61e-742017bf7ea6",
      "metadata": {
        "id": "f6835afb-4294-4212-a61e-742017bf7ea6"
      },
      "outputs": [],
      "source": [
        "import pandas as pd"
      ]
    },
    {
      "cell_type": "code",
      "execution_count": 21,
      "id": "af078d4e-1753-4c99-aee0-11cc961135d4",
      "metadata": {
        "id": "af078d4e-1753-4c99-aee0-11cc961135d4"
      },
      "outputs": [],
      "source": [
        "import os"
      ]
    },
    {
      "cell_type": "code",
      "execution_count": 22,
      "id": "2c491202-1c34-4b99-988f-d87e84973e10",
      "metadata": {
        "id": "2c491202-1c34-4b99-988f-d87e84973e10"
      },
      "outputs": [],
      "source": [
        "#Importamos los archivos del primer trimestre de la EPH de los años 2004 y 2024"
      ]
    },
    {
      "cell_type": "code",
      "source": [
        "from google.colab import files\n",
        "\n",
        "uploaded = files.upload()"
      ],
      "metadata": {
        "id": "wMOErnq0sQKV",
        "outputId": "78897edf-290e-4c30-a361-20d55c8df92e",
        "colab": {
          "base_uri": "https://localhost:8080/",
          "height": 76
        }
      },
      "id": "wMOErnq0sQKV",
      "execution_count": 23,
      "outputs": [
        {
          "output_type": "display_data",
          "data": {
            "text/plain": [
              "<IPython.core.display.HTML object>"
            ],
            "text/html": [
              "\n",
              "     <input type=\"file\" id=\"files-332de938-13d8-44d1-b8d5-2cbda48e5ca0\" name=\"files[]\" multiple disabled\n",
              "        style=\"border:none\" />\n",
              "     <output id=\"result-332de938-13d8-44d1-b8d5-2cbda48e5ca0\">\n",
              "      Upload widget is only available when the cell has been executed in the\n",
              "      current browser session. Please rerun this cell to enable.\n",
              "      </output>\n",
              "      <script>// Copyright 2017 Google LLC\n",
              "//\n",
              "// Licensed under the Apache License, Version 2.0 (the \"License\");\n",
              "// you may not use this file except in compliance with the License.\n",
              "// You may obtain a copy of the License at\n",
              "//\n",
              "//      http://www.apache.org/licenses/LICENSE-2.0\n",
              "//\n",
              "// Unless required by applicable law or agreed to in writing, software\n",
              "// distributed under the License is distributed on an \"AS IS\" BASIS,\n",
              "// WITHOUT WARRANTIES OR CONDITIONS OF ANY KIND, either express or implied.\n",
              "// See the License for the specific language governing permissions and\n",
              "// limitations under the License.\n",
              "\n",
              "/**\n",
              " * @fileoverview Helpers for google.colab Python module.\n",
              " */\n",
              "(function(scope) {\n",
              "function span(text, styleAttributes = {}) {\n",
              "  const element = document.createElement('span');\n",
              "  element.textContent = text;\n",
              "  for (const key of Object.keys(styleAttributes)) {\n",
              "    element.style[key] = styleAttributes[key];\n",
              "  }\n",
              "  return element;\n",
              "}\n",
              "\n",
              "// Max number of bytes which will be uploaded at a time.\n",
              "const MAX_PAYLOAD_SIZE = 100 * 1024;\n",
              "\n",
              "function _uploadFiles(inputId, outputId) {\n",
              "  const steps = uploadFilesStep(inputId, outputId);\n",
              "  const outputElement = document.getElementById(outputId);\n",
              "  // Cache steps on the outputElement to make it available for the next call\n",
              "  // to uploadFilesContinue from Python.\n",
              "  outputElement.steps = steps;\n",
              "\n",
              "  return _uploadFilesContinue(outputId);\n",
              "}\n",
              "\n",
              "// This is roughly an async generator (not supported in the browser yet),\n",
              "// where there are multiple asynchronous steps and the Python side is going\n",
              "// to poll for completion of each step.\n",
              "// This uses a Promise to block the python side on completion of each step,\n",
              "// then passes the result of the previous step as the input to the next step.\n",
              "function _uploadFilesContinue(outputId) {\n",
              "  const outputElement = document.getElementById(outputId);\n",
              "  const steps = outputElement.steps;\n",
              "\n",
              "  const next = steps.next(outputElement.lastPromiseValue);\n",
              "  return Promise.resolve(next.value.promise).then((value) => {\n",
              "    // Cache the last promise value to make it available to the next\n",
              "    // step of the generator.\n",
              "    outputElement.lastPromiseValue = value;\n",
              "    return next.value.response;\n",
              "  });\n",
              "}\n",
              "\n",
              "/**\n",
              " * Generator function which is called between each async step of the upload\n",
              " * process.\n",
              " * @param {string} inputId Element ID of the input file picker element.\n",
              " * @param {string} outputId Element ID of the output display.\n",
              " * @return {!Iterable<!Object>} Iterable of next steps.\n",
              " */\n",
              "function* uploadFilesStep(inputId, outputId) {\n",
              "  const inputElement = document.getElementById(inputId);\n",
              "  inputElement.disabled = false;\n",
              "\n",
              "  const outputElement = document.getElementById(outputId);\n",
              "  outputElement.innerHTML = '';\n",
              "\n",
              "  const pickedPromise = new Promise((resolve) => {\n",
              "    inputElement.addEventListener('change', (e) => {\n",
              "      resolve(e.target.files);\n",
              "    });\n",
              "  });\n",
              "\n",
              "  const cancel = document.createElement('button');\n",
              "  inputElement.parentElement.appendChild(cancel);\n",
              "  cancel.textContent = 'Cancel upload';\n",
              "  const cancelPromise = new Promise((resolve) => {\n",
              "    cancel.onclick = () => {\n",
              "      resolve(null);\n",
              "    };\n",
              "  });\n",
              "\n",
              "  // Wait for the user to pick the files.\n",
              "  const files = yield {\n",
              "    promise: Promise.race([pickedPromise, cancelPromise]),\n",
              "    response: {\n",
              "      action: 'starting',\n",
              "    }\n",
              "  };\n",
              "\n",
              "  cancel.remove();\n",
              "\n",
              "  // Disable the input element since further picks are not allowed.\n",
              "  inputElement.disabled = true;\n",
              "\n",
              "  if (!files) {\n",
              "    return {\n",
              "      response: {\n",
              "        action: 'complete',\n",
              "      }\n",
              "    };\n",
              "  }\n",
              "\n",
              "  for (const file of files) {\n",
              "    const li = document.createElement('li');\n",
              "    li.append(span(file.name, {fontWeight: 'bold'}));\n",
              "    li.append(span(\n",
              "        `(${file.type || 'n/a'}) - ${file.size} bytes, ` +\n",
              "        `last modified: ${\n",
              "            file.lastModifiedDate ? file.lastModifiedDate.toLocaleDateString() :\n",
              "                                    'n/a'} - `));\n",
              "    const percent = span('0% done');\n",
              "    li.appendChild(percent);\n",
              "\n",
              "    outputElement.appendChild(li);\n",
              "\n",
              "    const fileDataPromise = new Promise((resolve) => {\n",
              "      const reader = new FileReader();\n",
              "      reader.onload = (e) => {\n",
              "        resolve(e.target.result);\n",
              "      };\n",
              "      reader.readAsArrayBuffer(file);\n",
              "    });\n",
              "    // Wait for the data to be ready.\n",
              "    let fileData = yield {\n",
              "      promise: fileDataPromise,\n",
              "      response: {\n",
              "        action: 'continue',\n",
              "      }\n",
              "    };\n",
              "\n",
              "    // Use a chunked sending to avoid message size limits. See b/62115660.\n",
              "    let position = 0;\n",
              "    do {\n",
              "      const length = Math.min(fileData.byteLength - position, MAX_PAYLOAD_SIZE);\n",
              "      const chunk = new Uint8Array(fileData, position, length);\n",
              "      position += length;\n",
              "\n",
              "      const base64 = btoa(String.fromCharCode.apply(null, chunk));\n",
              "      yield {\n",
              "        response: {\n",
              "          action: 'append',\n",
              "          file: file.name,\n",
              "          data: base64,\n",
              "        },\n",
              "      };\n",
              "\n",
              "      let percentDone = fileData.byteLength === 0 ?\n",
              "          100 :\n",
              "          Math.round((position / fileData.byteLength) * 100);\n",
              "      percent.textContent = `${percentDone}% done`;\n",
              "\n",
              "    } while (position < fileData.byteLength);\n",
              "  }\n",
              "\n",
              "  // All done.\n",
              "  yield {\n",
              "    response: {\n",
              "      action: 'complete',\n",
              "    }\n",
              "  };\n",
              "}\n",
              "\n",
              "scope.google = scope.google || {};\n",
              "scope.google.colab = scope.google.colab || {};\n",
              "scope.google.colab._files = {\n",
              "  _uploadFiles,\n",
              "  _uploadFilesContinue,\n",
              "};\n",
              "})(self);\n",
              "</script> "
            ]
          },
          "metadata": {}
        },
        {
          "output_type": "stream",
          "name": "stdout",
          "text": [
            "Saving usu_individual_T104.dta to usu_individual_T104 (1).dta\n"
          ]
        }
      ]
    },
    {
      "cell_type": "code",
      "execution_count": 24,
      "id": "e298eec7-275b-4886-9604-4c68a9762c7d",
      "metadata": {
        "id": "e298eec7-275b-4886-9604-4c68a9762c7d"
      },
      "outputs": [],
      "source": [
        "df_stata = pd.read_stata(\"usu_individual_T104.dta\")"
      ]
    },
    {
      "cell_type": "code",
      "execution_count": 25,
      "id": "cf2c24c5-1e52-40c9-b67f-923a6316d09c",
      "metadata": {
        "collapsed": true,
        "jupyter": {
          "outputs_hidden": true
        },
        "scrolled": true,
        "id": "cf2c24c5-1e52-40c9-b67f-923a6316d09c",
        "outputId": "e15730c2-daeb-417e-d70b-8e78bb4d05a7",
        "colab": {
          "base_uri": "https://localhost:8080/"
        }
      },
      "outputs": [
        {
          "output_type": "stream",
          "name": "stdout",
          "text": [
            "Index(['CODUSU', 'nro_hogar', 'componente', 'h15', 'ano4', 'trimestre',\n",
            "       'region', 'mas_500', 'aglomerado', 'pondera',\n",
            "       ...\n",
            "       'deccfr', 'ideccfr', 'rdeccfr', 'gdeccfr', 'pdeccfr', 'adeccfr',\n",
            "       'pj1_1', 'pj2_1', 'pj3_1', 'idimpp'],\n",
            "      dtype='object', length=176)\n"
          ]
        }
      ],
      "source": [
        "#Imprimimos las columnas para poder elegir la región\n",
        "print(df_stata.columns)"
      ]
    },
    {
      "cell_type": "code",
      "execution_count": 26,
      "id": "8a6db7cb-895b-4b69-b12a-089db9c80fcd",
      "metadata": {
        "id": "8a6db7cb-895b-4b69-b12a-089db9c80fcd"
      },
      "outputs": [],
      "source": [
        "df_stata.rename(columns=str.upper, inplace=True)\n",
        "#Renombramos la columna así coincide con la EPH del 2024"
      ]
    },
    {
      "cell_type": "code",
      "execution_count": 27,
      "id": "03860a86-0ab0-4d5a-bed7-8cbe5b330074",
      "metadata": {
        "scrolled": true,
        "id": "03860a86-0ab0-4d5a-bed7-8cbe5b330074",
        "outputId": "d10a4885-d097-4072-cc91-9066c35c69e5",
        "colab": {
          "base_uri": "https://localhost:8080/"
        }
      },
      "outputs": [
        {
          "output_type": "stream",
          "name": "stdout",
          "text": [
            "Index(['CODUSU', 'NRO_HOGAR', 'COMPONENTE', 'H15', 'ANO4', 'TRIMESTRE',\n",
            "       'REGION', 'MAS_500', 'AGLOMERADO', 'PONDERA',\n",
            "       ...\n",
            "       'DECCFR', 'IDECCFR', 'RDECCFR', 'GDECCFR', 'PDECCFR', 'ADECCFR',\n",
            "       'PJ1_1', 'PJ2_1', 'PJ3_1', 'IDIMPP'],\n",
            "      dtype='object', length=176)\n"
          ]
        }
      ],
      "source": [
        "print(df_stata.columns)"
      ]
    },
    {
      "cell_type": "code",
      "source": [
        "from google.colab import files\n",
        "\n",
        "uploaded = files.upload()"
      ],
      "metadata": {
        "id": "Oagb1YPFsXdU",
        "outputId": "40ba930f-687f-4a8b-ca17-26a87deb7ba7",
        "colab": {
          "base_uri": "https://localhost:8080/",
          "height": 76
        }
      },
      "id": "Oagb1YPFsXdU",
      "execution_count": 28,
      "outputs": [
        {
          "output_type": "display_data",
          "data": {
            "text/plain": [
              "<IPython.core.display.HTML object>"
            ],
            "text/html": [
              "\n",
              "     <input type=\"file\" id=\"files-1f4a250b-1060-42ce-bed6-62987fcf8aca\" name=\"files[]\" multiple disabled\n",
              "        style=\"border:none\" />\n",
              "     <output id=\"result-1f4a250b-1060-42ce-bed6-62987fcf8aca\">\n",
              "      Upload widget is only available when the cell has been executed in the\n",
              "      current browser session. Please rerun this cell to enable.\n",
              "      </output>\n",
              "      <script>// Copyright 2017 Google LLC\n",
              "//\n",
              "// Licensed under the Apache License, Version 2.0 (the \"License\");\n",
              "// you may not use this file except in compliance with the License.\n",
              "// You may obtain a copy of the License at\n",
              "//\n",
              "//      http://www.apache.org/licenses/LICENSE-2.0\n",
              "//\n",
              "// Unless required by applicable law or agreed to in writing, software\n",
              "// distributed under the License is distributed on an \"AS IS\" BASIS,\n",
              "// WITHOUT WARRANTIES OR CONDITIONS OF ANY KIND, either express or implied.\n",
              "// See the License for the specific language governing permissions and\n",
              "// limitations under the License.\n",
              "\n",
              "/**\n",
              " * @fileoverview Helpers for google.colab Python module.\n",
              " */\n",
              "(function(scope) {\n",
              "function span(text, styleAttributes = {}) {\n",
              "  const element = document.createElement('span');\n",
              "  element.textContent = text;\n",
              "  for (const key of Object.keys(styleAttributes)) {\n",
              "    element.style[key] = styleAttributes[key];\n",
              "  }\n",
              "  return element;\n",
              "}\n",
              "\n",
              "// Max number of bytes which will be uploaded at a time.\n",
              "const MAX_PAYLOAD_SIZE = 100 * 1024;\n",
              "\n",
              "function _uploadFiles(inputId, outputId) {\n",
              "  const steps = uploadFilesStep(inputId, outputId);\n",
              "  const outputElement = document.getElementById(outputId);\n",
              "  // Cache steps on the outputElement to make it available for the next call\n",
              "  // to uploadFilesContinue from Python.\n",
              "  outputElement.steps = steps;\n",
              "\n",
              "  return _uploadFilesContinue(outputId);\n",
              "}\n",
              "\n",
              "// This is roughly an async generator (not supported in the browser yet),\n",
              "// where there are multiple asynchronous steps and the Python side is going\n",
              "// to poll for completion of each step.\n",
              "// This uses a Promise to block the python side on completion of each step,\n",
              "// then passes the result of the previous step as the input to the next step.\n",
              "function _uploadFilesContinue(outputId) {\n",
              "  const outputElement = document.getElementById(outputId);\n",
              "  const steps = outputElement.steps;\n",
              "\n",
              "  const next = steps.next(outputElement.lastPromiseValue);\n",
              "  return Promise.resolve(next.value.promise).then((value) => {\n",
              "    // Cache the last promise value to make it available to the next\n",
              "    // step of the generator.\n",
              "    outputElement.lastPromiseValue = value;\n",
              "    return next.value.response;\n",
              "  });\n",
              "}\n",
              "\n",
              "/**\n",
              " * Generator function which is called between each async step of the upload\n",
              " * process.\n",
              " * @param {string} inputId Element ID of the input file picker element.\n",
              " * @param {string} outputId Element ID of the output display.\n",
              " * @return {!Iterable<!Object>} Iterable of next steps.\n",
              " */\n",
              "function* uploadFilesStep(inputId, outputId) {\n",
              "  const inputElement = document.getElementById(inputId);\n",
              "  inputElement.disabled = false;\n",
              "\n",
              "  const outputElement = document.getElementById(outputId);\n",
              "  outputElement.innerHTML = '';\n",
              "\n",
              "  const pickedPromise = new Promise((resolve) => {\n",
              "    inputElement.addEventListener('change', (e) => {\n",
              "      resolve(e.target.files);\n",
              "    });\n",
              "  });\n",
              "\n",
              "  const cancel = document.createElement('button');\n",
              "  inputElement.parentElement.appendChild(cancel);\n",
              "  cancel.textContent = 'Cancel upload';\n",
              "  const cancelPromise = new Promise((resolve) => {\n",
              "    cancel.onclick = () => {\n",
              "      resolve(null);\n",
              "    };\n",
              "  });\n",
              "\n",
              "  // Wait for the user to pick the files.\n",
              "  const files = yield {\n",
              "    promise: Promise.race([pickedPromise, cancelPromise]),\n",
              "    response: {\n",
              "      action: 'starting',\n",
              "    }\n",
              "  };\n",
              "\n",
              "  cancel.remove();\n",
              "\n",
              "  // Disable the input element since further picks are not allowed.\n",
              "  inputElement.disabled = true;\n",
              "\n",
              "  if (!files) {\n",
              "    return {\n",
              "      response: {\n",
              "        action: 'complete',\n",
              "      }\n",
              "    };\n",
              "  }\n",
              "\n",
              "  for (const file of files) {\n",
              "    const li = document.createElement('li');\n",
              "    li.append(span(file.name, {fontWeight: 'bold'}));\n",
              "    li.append(span(\n",
              "        `(${file.type || 'n/a'}) - ${file.size} bytes, ` +\n",
              "        `last modified: ${\n",
              "            file.lastModifiedDate ? file.lastModifiedDate.toLocaleDateString() :\n",
              "                                    'n/a'} - `));\n",
              "    const percent = span('0% done');\n",
              "    li.appendChild(percent);\n",
              "\n",
              "    outputElement.appendChild(li);\n",
              "\n",
              "    const fileDataPromise = new Promise((resolve) => {\n",
              "      const reader = new FileReader();\n",
              "      reader.onload = (e) => {\n",
              "        resolve(e.target.result);\n",
              "      };\n",
              "      reader.readAsArrayBuffer(file);\n",
              "    });\n",
              "    // Wait for the data to be ready.\n",
              "    let fileData = yield {\n",
              "      promise: fileDataPromise,\n",
              "      response: {\n",
              "        action: 'continue',\n",
              "      }\n",
              "    };\n",
              "\n",
              "    // Use a chunked sending to avoid message size limits. See b/62115660.\n",
              "    let position = 0;\n",
              "    do {\n",
              "      const length = Math.min(fileData.byteLength - position, MAX_PAYLOAD_SIZE);\n",
              "      const chunk = new Uint8Array(fileData, position, length);\n",
              "      position += length;\n",
              "\n",
              "      const base64 = btoa(String.fromCharCode.apply(null, chunk));\n",
              "      yield {\n",
              "        response: {\n",
              "          action: 'append',\n",
              "          file: file.name,\n",
              "          data: base64,\n",
              "        },\n",
              "      };\n",
              "\n",
              "      let percentDone = fileData.byteLength === 0 ?\n",
              "          100 :\n",
              "          Math.round((position / fileData.byteLength) * 100);\n",
              "      percent.textContent = `${percentDone}% done`;\n",
              "\n",
              "    } while (position < fileData.byteLength);\n",
              "  }\n",
              "\n",
              "  // All done.\n",
              "  yield {\n",
              "    response: {\n",
              "      action: 'complete',\n",
              "    }\n",
              "  };\n",
              "}\n",
              "\n",
              "scope.google = scope.google || {};\n",
              "scope.google.colab = scope.google.colab || {};\n",
              "scope.google.colab._files = {\n",
              "  _uploadFiles,\n",
              "  _uploadFilesContinue,\n",
              "};\n",
              "})(self);\n",
              "</script> "
            ]
          },
          "metadata": {}
        },
        {
          "output_type": "stream",
          "name": "stdout",
          "text": [
            "Saving usu_individual_T124.xlsx to usu_individual_T124 (1).xlsx\n"
          ]
        }
      ]
    },
    {
      "cell_type": "code",
      "source": [
        "from google.colab import drive\n",
        "drive.mount('/content/drive')"
      ],
      "metadata": {
        "id": "uX6b8UxoxI9_",
        "outputId": "b9c0b20c-e8a3-4e71-b6bb-7dea18c318a4",
        "colab": {
          "base_uri": "https://localhost:8080/"
        }
      },
      "id": "uX6b8UxoxI9_",
      "execution_count": 32,
      "outputs": [
        {
          "output_type": "stream",
          "name": "stdout",
          "text": [
            "Mounted at /content/drive\n"
          ]
        }
      ]
    },
    {
      "cell_type": "code",
      "execution_count": 30,
      "id": "f4c8af5f-b218-45b9-9df2-3be0fc5ac128",
      "metadata": {
        "id": "f4c8af5f-b218-45b9-9df2-3be0fc5ac128"
      },
      "outputs": [],
      "source": [
        "df_excel = pd.read_excel(\"usu_individual_T124.xlsx\")"
      ]
    },
    {
      "cell_type": "code",
      "execution_count": 33,
      "id": "60dfe54d-21a1-4541-807d-77f59e0505e3",
      "metadata": {
        "id": "60dfe54d-21a1-4541-807d-77f59e0505e3",
        "outputId": "a710ce26-800c-4809-a0b3-c3b4fa96208e",
        "colab": {
          "base_uri": "https://localhost:8080/"
        }
      },
      "outputs": [
        {
          "output_type": "stream",
          "name": "stdout",
          "text": [
            "Index(['CODUSU', 'ANO4', 'TRIMESTRE', 'NRO_HOGAR', 'COMPONENTE', 'H15',\n",
            "       'REGION', 'MAS_500', 'AGLOMERADO', 'PONDERA',\n",
            "       ...\n",
            "       'PDECIFR', 'ADECIFR', 'IPCF', 'DECCFR', 'IDECCFR', 'RDECCFR', 'GDECCFR',\n",
            "       'PDECCFR', 'ADECCFR', 'PONDIH'],\n",
            "      dtype='object', length=177)\n"
          ]
        }
      ],
      "source": [
        "print(df_excel.columns)"
      ]
    },
    {
      "cell_type": "code",
      "execution_count": 34,
      "id": "af5523fc-6fb3-4d1a-ad27-2af9003e0de4",
      "metadata": {
        "id": "af5523fc-6fb3-4d1a-ad27-2af9003e0de4"
      },
      "outputs": [],
      "source": [
        "#Indicamos la región elegida, en la EPH del 2004 debemos tomarlo como NOA y la del 2024 por su código.\n",
        "df_excel_noa = df_excel[df_excel[\"REGION\"] == 40]\n",
        "df_stata_noa = df_stata[df_stata[\"REGION\"] == \"NOA\"]"
      ]
    },
    {
      "cell_type": "code",
      "execution_count": 35,
      "id": "a5cbe535-9610-4eb0-b633-80a4c9a4509b",
      "metadata": {
        "id": "a5cbe535-9610-4eb0-b633-80a4c9a4509b",
        "outputId": "65411d14-6710-41f6-e10b-18ef867ae5df",
        "colab": {
          "base_uri": "https://localhost:8080/"
        }
      },
      "outputs": [
        {
          "output_type": "stream",
          "name": "stdout",
          "text": [
            "['CODUSU', 'NRO_HOGAR', 'COMPONENTE', 'H15', 'ANO4', 'TRIMESTRE', 'REGION', 'MAS_500', 'AGLOMERADO', 'PONDERA', 'CH03', 'CH04', 'CH06', 'CH07', 'CH08', 'CH09', 'CH10', 'CH11', 'CH12', 'CH13', 'CH14', 'CH15', 'CH15_COD', 'CH16', 'CH16_COD', 'NIVEL_ED', 'ESTADO', 'CAT_OCUP', 'CAT_INAC', 'PP02C1', 'PP02C2', 'PP02C3', 'PP02C4', 'PP02C5', 'PP02C6', 'PP02C7', 'PP02C8', 'PP02E', 'PP02H', 'PP02I', 'PP03C', 'PP03D', 'PP3E_TOT', 'PP3F_TOT', 'PP03G', 'PP03H', 'PP03I', 'PP03J', 'INTENSI', 'PP04A', 'PP04B_COD', 'PP04B1', 'PP04B2', 'PP04B3_MES', 'PP04B3_ANO', 'PP04B3_DIA', 'PP04C', 'PP04C99', 'PP04D_COD', 'PP04G', 'PP05B2_MES', 'PP05B2_ANO', 'PP05B2_DIA', 'PP05C_1', 'PP05C_2', 'PP05C_3', 'PP05E', 'PP05F', 'PP05H', 'PP06A', 'PP06C', 'PP06D', 'PP06E', 'PP06H', 'PP07A', 'PP07C', 'PP07D', 'PP07E', 'PP07F1', 'PP07F2', 'PP07F3', 'PP07F4', 'PP07F5', 'PP07G1', 'PP07G2', 'PP07G3', 'PP07G4', 'PP07G_59', 'PP07H', 'PP07I', 'PP07J', 'PP07K', 'PP08D1', 'PP08D4', 'PP08F1', 'PP08F2', 'PP08J1', 'PP08J2', 'PP08J3', 'PP09A', 'PP09A_ESP', 'PP09B', 'PP09C', 'PP09C_ESP', 'PP10A', 'PP10C', 'PP10D', 'PP10E', 'PP11A', 'PP11B_COD', 'PP11B1', 'PP11B2_MES', 'PP11B2_ANO', 'PP11B2_DIA', 'PP11C', 'PP11C99', 'PP11D_COD', 'PP11G_ANO', 'PP11G_MES', 'PP11G_DIA', 'PP11L', 'PP11L1', 'PP11M', 'PP11N', 'PP11O', 'PP11P', 'PP11Q', 'PP11R', 'PP11S', 'PP11T', 'P21', 'DECOCUR', 'IDECOCUR', 'RDECOCUR', 'GDECOCUR', 'PDECOCUR', 'ADECOCUR', 'TOT_P12', 'P47T', 'DECINDR', 'IDECINDR', 'RDECINDR', 'GDECINDR', 'PDECINDR', 'ADECINDR', 'V2_M', 'V3_M', 'V4_M', 'V5_M', 'V8_M', 'V9_M', 'V10_M', 'V11_M', 'V12_M', 'V18_M', 'V19_AM', 'V21_M', 'T_VI', 'ITF', 'DECIFR', 'IDECIFR', 'RDECIFR', 'GDECIFR', 'PDECIFR', 'ADECIFR', 'IPCF', 'DECCFR', 'IDECCFR', 'RDECCFR', 'GDECCFR', 'PDECCFR', 'ADECCFR', 'PJ1_1', 'PJ2_1', 'PJ3_1', 'IDIMPP']\n"
          ]
        }
      ],
      "source": [
        "print(df_stata_noa.columns.tolist())"
      ]
    },
    {
      "cell_type": "code",
      "execution_count": 36,
      "id": "82b6d850-12ae-49f9-bfee-05b7b4ee204b",
      "metadata": {
        "id": "82b6d850-12ae-49f9-bfee-05b7b4ee204b"
      },
      "outputs": [],
      "source": [
        "variables_interes = [\n",
        "    \"CH04\", \"CH06\", \"CH07\", \"CH08\", \"CH10\", \"CH11\", \"CH12\", \"CH13\",\n",
        "    \"NIVEL_ED\", \"ESTADO\", \"CAT_OCUP\", \"CAT_INAC\",\n",
        "    \"PP02H\", \"PP02I\", \"IPCF\"\n",
        "]"
      ]
    },
    {
      "cell_type": "code",
      "execution_count": 37,
      "id": "e44a74d7-b82d-4bd3-b8e4-b9f3c1ff1d40",
      "metadata": {
        "collapsed": true,
        "jupyter": {
          "outputs_hidden": true
        },
        "id": "e44a74d7-b82d-4bd3-b8e4-b9f3c1ff1d40",
        "outputId": "8cef8f7e-52c8-445c-8bd6-28131f20ce20",
        "colab": {
          "base_uri": "https://localhost:8080/"
        }
      },
      "outputs": [
        {
          "output_type": "stream",
          "name": "stderr",
          "text": [
            "<ipython-input-37-f7b22828ceea>:1: FutureWarning: Downcasting behavior in `replace` is deprecated and will be removed in a future version. To retain the old behavior, explicitly call `result.infer_objects(copy=False)`. To opt-in to the future behavior, set `pd.set_option('future.no_silent_downcasting', True)`\n",
            "  df_stata_noa['CH04'] = df_stata_noa['CH04'].replace({'Varón': 1, 'Mujer': 2})\n",
            "<ipython-input-37-f7b22828ceea>:1: FutureWarning: The behavior of Series.replace (and DataFrame.replace) with CategoricalDtype is deprecated. In a future version, replace will only be used for cases that preserve the categories. To change the categories, use ser.cat.rename_categories instead.\n",
            "  df_stata_noa['CH04'] = df_stata_noa['CH04'].replace({'Varón': 1, 'Mujer': 2})\n",
            "<ipython-input-37-f7b22828ceea>:1: SettingWithCopyWarning: \n",
            "A value is trying to be set on a copy of a slice from a DataFrame.\n",
            "Try using .loc[row_indexer,col_indexer] = value instead\n",
            "\n",
            "See the caveats in the documentation: https://pandas.pydata.org/pandas-docs/stable/user_guide/indexing.html#returning-a-view-versus-a-copy\n",
            "  df_stata_noa['CH04'] = df_stata_noa['CH04'].replace({'Varón': 1, 'Mujer': 2})\n",
            "<ipython-input-37-f7b22828ceea>:2: SettingWithCopyWarning: \n",
            "A value is trying to be set on a copy of a slice from a DataFrame.\n",
            "Try using .loc[row_indexer,col_indexer] = value instead\n",
            "\n",
            "See the caveats in the documentation: https://pandas.pydata.org/pandas-docs/stable/user_guide/indexing.html#returning-a-view-versus-a-copy\n",
            "  df_stata_noa['CH04'] = df_stata_noa['CH04'].astype(int)\n"
          ]
        }
      ],
      "source": [
        "df_stata_noa['CH04'] = df_stata_noa['CH04'].replace({'Varón': 1, 'Mujer': 2})\n",
        "df_stata_noa['CH04'] = df_stata_noa['CH04'].astype(int)"
      ]
    },
    {
      "cell_type": "code",
      "execution_count": 38,
      "id": "935f4b63-0456-4f93-b7dd-82bd6fcbfd3c",
      "metadata": {
        "id": "935f4b63-0456-4f93-b7dd-82bd6fcbfd3c"
      },
      "outputs": [],
      "source": [
        "#Unimos (append) las bases en una sola base de datos y reiniciamos los índices para que queden en orden\n",
        "df_stata_noa = df_stata_noa[variables_interes]\n",
        "df_excel_noa = df_excel_noa[variables_interes]"
      ]
    },
    {
      "cell_type": "code",
      "execution_count": 39,
      "id": "d0dd7274-dfe9-4c8e-ac77-3bc6bb7b835a",
      "metadata": {
        "id": "d0dd7274-dfe9-4c8e-ac77-3bc6bb7b835a"
      },
      "outputs": [],
      "source": [
        "#Agregamos una columna que nos indique a qué año pertenece cada dato\n",
        "df_stata_noa[\"ANO4\"] = 2004\n",
        "df_excel_noa[\"ANO4\"] = 2024"
      ]
    },
    {
      "cell_type": "code",
      "execution_count": 40,
      "id": "4e4ab9d2-cd63-474f-b736-44156f9fd6ed",
      "metadata": {
        "id": "4e4ab9d2-cd63-474f-b736-44156f9fd6ed"
      },
      "outputs": [],
      "source": [
        "df_unido = pd.concat([df_stata_noa, df_excel_noa], ignore_index=True)"
      ]
    },
    {
      "cell_type": "code",
      "execution_count": 41,
      "id": "b0875751-2c6d-475a-858c-fa1b86547077",
      "metadata": {
        "scrolled": true,
        "id": "b0875751-2c6d-475a-858c-fa1b86547077",
        "outputId": "d78d15dc-8bfe-43f0-c0ab-b6bb51515367",
        "colab": {
          "base_uri": "https://localhost:8080/",
          "height": 424
        }
      },
      "outputs": [
        {
          "output_type": "display_data",
          "data": {
            "text/plain": [
              "       CH04  CH06                   CH07  \\\n",
              "0         2  74.0  Separado o divorciado   \n",
              "1         1  35.0                  Unido   \n",
              "2         2  34.0                  Unido   \n",
              "3         2  14.0                Soltero   \n",
              "4         1  11.0                Soltero   \n",
              "...     ...   ...                    ...   \n",
              "19513     1    59                      5   \n",
              "19514     1    32                      1   \n",
              "19515     2    30                      1   \n",
              "19516     2     9                      5   \n",
              "19517     1     9                      5   \n",
              "\n",
              "                                                    CH08  \\\n",
              "0      Obra social y mutual/prepaga/servicio de emerg...   \n",
              "1                               No paga ni le descuentan   \n",
              "2                               No paga ni le descuentan   \n",
              "3                               No paga ni le descuentan   \n",
              "4                               No paga ni le descuentan   \n",
              "...                                                  ...   \n",
              "19513                                                  2   \n",
              "19514                                                  1   \n",
              "19515                                                  1   \n",
              "19516                                                  1   \n",
              "19517                                                  1   \n",
              "\n",
              "                          CH10     CH11        CH12 CH13  \\\n",
              "0      No asiste, pero asistió      0.0    Primario   Sí   \n",
              "1      No asiste, pero asistió      0.0  Secundario   No   \n",
              "2      No asiste, pero asistió      0.0    Primario   Sí   \n",
              "3                   Sí, asiste  Público   Polimodal   No   \n",
              "4                   Sí, asiste  Público         EGB   No   \n",
              "...                        ...      ...         ...  ...   \n",
              "19513                        2        0           7    2   \n",
              "19514                        2        0           2    1   \n",
              "19515                        2        0           6    2   \n",
              "19516                        1        2           2    2   \n",
              "19517                        1        2           2    2   \n",
              "\n",
              "                                               NIVEL_ED      ESTADO  \\\n",
              "0                                     Primaria Completa    Inactivo   \n",
              "1                                 Secundaria Incompleta  Desocupado   \n",
              "2                                     Primaria Completa    Inactivo   \n",
              "3                                 Secundaria Incompleta    Inactivo   \n",
              "4      Primaria Incompleta (incluye educación especial)    Inactivo   \n",
              "...                                                 ...         ...   \n",
              "19513                                                 5           1   \n",
              "19514                                                 2           1   \n",
              "19515                                                 5           3   \n",
              "19516                                                 1           4   \n",
              "19517                                                 1           4   \n",
              "\n",
              "            CAT_OCUP             CAT_INAC PP02H PP02I      IPCF  ANO4  \n",
              "0                0.0  Jubilado/pensionado    No    No     280.0  2004  \n",
              "1      Cuenta propia                  0.0   0.0   0.0      90.0  2004  \n",
              "2                0.0          Ama de casa    Sí    Sí      90.0  2004  \n",
              "3                0.0           Estudiante    No    No      90.0  2004  \n",
              "4                0.0           Estudiante    No    No      90.0  2004  \n",
              "...              ...                  ...   ...   ...       ...   ...  \n",
              "19513              1                    0     0     0  450000.0  2024  \n",
              "19514              3                    0     0     0  200000.0  2024  \n",
              "19515              0                    7     2     2  200000.0  2024  \n",
              "19516              0                    3     0     0  200000.0  2024  \n",
              "19517              0                    3     0     0  200000.0  2024  \n",
              "\n",
              "[19518 rows x 16 columns]"
            ],
            "text/html": [
              "\n",
              "  <div id=\"df-e98f09aa-8777-4ccb-9d43-8ad5d67fdc6d\" class=\"colab-df-container\">\n",
              "    <div>\n",
              "<style scoped>\n",
              "    .dataframe tbody tr th:only-of-type {\n",
              "        vertical-align: middle;\n",
              "    }\n",
              "\n",
              "    .dataframe tbody tr th {\n",
              "        vertical-align: top;\n",
              "    }\n",
              "\n",
              "    .dataframe thead th {\n",
              "        text-align: right;\n",
              "    }\n",
              "</style>\n",
              "<table border=\"1\" class=\"dataframe\">\n",
              "  <thead>\n",
              "    <tr style=\"text-align: right;\">\n",
              "      <th></th>\n",
              "      <th>CH04</th>\n",
              "      <th>CH06</th>\n",
              "      <th>CH07</th>\n",
              "      <th>CH08</th>\n",
              "      <th>CH10</th>\n",
              "      <th>CH11</th>\n",
              "      <th>CH12</th>\n",
              "      <th>CH13</th>\n",
              "      <th>NIVEL_ED</th>\n",
              "      <th>ESTADO</th>\n",
              "      <th>CAT_OCUP</th>\n",
              "      <th>CAT_INAC</th>\n",
              "      <th>PP02H</th>\n",
              "      <th>PP02I</th>\n",
              "      <th>IPCF</th>\n",
              "      <th>ANO4</th>\n",
              "    </tr>\n",
              "  </thead>\n",
              "  <tbody>\n",
              "    <tr>\n",
              "      <th>0</th>\n",
              "      <td>2</td>\n",
              "      <td>74.0</td>\n",
              "      <td>Separado o divorciado</td>\n",
              "      <td>Obra social y mutual/prepaga/servicio de emerg...</td>\n",
              "      <td>No asiste, pero asistió</td>\n",
              "      <td>0.0</td>\n",
              "      <td>Primario</td>\n",
              "      <td>Sí</td>\n",
              "      <td>Primaria Completa</td>\n",
              "      <td>Inactivo</td>\n",
              "      <td>0.0</td>\n",
              "      <td>Jubilado/pensionado</td>\n",
              "      <td>No</td>\n",
              "      <td>No</td>\n",
              "      <td>280.0</td>\n",
              "      <td>2004</td>\n",
              "    </tr>\n",
              "    <tr>\n",
              "      <th>1</th>\n",
              "      <td>1</td>\n",
              "      <td>35.0</td>\n",
              "      <td>Unido</td>\n",
              "      <td>No paga ni le descuentan</td>\n",
              "      <td>No asiste, pero asistió</td>\n",
              "      <td>0.0</td>\n",
              "      <td>Secundario</td>\n",
              "      <td>No</td>\n",
              "      <td>Secundaria Incompleta</td>\n",
              "      <td>Desocupado</td>\n",
              "      <td>Cuenta propia</td>\n",
              "      <td>0.0</td>\n",
              "      <td>0.0</td>\n",
              "      <td>0.0</td>\n",
              "      <td>90.0</td>\n",
              "      <td>2004</td>\n",
              "    </tr>\n",
              "    <tr>\n",
              "      <th>2</th>\n",
              "      <td>2</td>\n",
              "      <td>34.0</td>\n",
              "      <td>Unido</td>\n",
              "      <td>No paga ni le descuentan</td>\n",
              "      <td>No asiste, pero asistió</td>\n",
              "      <td>0.0</td>\n",
              "      <td>Primario</td>\n",
              "      <td>Sí</td>\n",
              "      <td>Primaria Completa</td>\n",
              "      <td>Inactivo</td>\n",
              "      <td>0.0</td>\n",
              "      <td>Ama de casa</td>\n",
              "      <td>Sí</td>\n",
              "      <td>Sí</td>\n",
              "      <td>90.0</td>\n",
              "      <td>2004</td>\n",
              "    </tr>\n",
              "    <tr>\n",
              "      <th>3</th>\n",
              "      <td>2</td>\n",
              "      <td>14.0</td>\n",
              "      <td>Soltero</td>\n",
              "      <td>No paga ni le descuentan</td>\n",
              "      <td>Sí, asiste</td>\n",
              "      <td>Público</td>\n",
              "      <td>Polimodal</td>\n",
              "      <td>No</td>\n",
              "      <td>Secundaria Incompleta</td>\n",
              "      <td>Inactivo</td>\n",
              "      <td>0.0</td>\n",
              "      <td>Estudiante</td>\n",
              "      <td>No</td>\n",
              "      <td>No</td>\n",
              "      <td>90.0</td>\n",
              "      <td>2004</td>\n",
              "    </tr>\n",
              "    <tr>\n",
              "      <th>4</th>\n",
              "      <td>1</td>\n",
              "      <td>11.0</td>\n",
              "      <td>Soltero</td>\n",
              "      <td>No paga ni le descuentan</td>\n",
              "      <td>Sí, asiste</td>\n",
              "      <td>Público</td>\n",
              "      <td>EGB</td>\n",
              "      <td>No</td>\n",
              "      <td>Primaria Incompleta (incluye educación especial)</td>\n",
              "      <td>Inactivo</td>\n",
              "      <td>0.0</td>\n",
              "      <td>Estudiante</td>\n",
              "      <td>No</td>\n",
              "      <td>No</td>\n",
              "      <td>90.0</td>\n",
              "      <td>2004</td>\n",
              "    </tr>\n",
              "    <tr>\n",
              "      <th>...</th>\n",
              "      <td>...</td>\n",
              "      <td>...</td>\n",
              "      <td>...</td>\n",
              "      <td>...</td>\n",
              "      <td>...</td>\n",
              "      <td>...</td>\n",
              "      <td>...</td>\n",
              "      <td>...</td>\n",
              "      <td>...</td>\n",
              "      <td>...</td>\n",
              "      <td>...</td>\n",
              "      <td>...</td>\n",
              "      <td>...</td>\n",
              "      <td>...</td>\n",
              "      <td>...</td>\n",
              "      <td>...</td>\n",
              "    </tr>\n",
              "    <tr>\n",
              "      <th>19513</th>\n",
              "      <td>1</td>\n",
              "      <td>59</td>\n",
              "      <td>5</td>\n",
              "      <td>2</td>\n",
              "      <td>2</td>\n",
              "      <td>0</td>\n",
              "      <td>7</td>\n",
              "      <td>2</td>\n",
              "      <td>5</td>\n",
              "      <td>1</td>\n",
              "      <td>1</td>\n",
              "      <td>0</td>\n",
              "      <td>0</td>\n",
              "      <td>0</td>\n",
              "      <td>450000.0</td>\n",
              "      <td>2024</td>\n",
              "    </tr>\n",
              "    <tr>\n",
              "      <th>19514</th>\n",
              "      <td>1</td>\n",
              "      <td>32</td>\n",
              "      <td>1</td>\n",
              "      <td>1</td>\n",
              "      <td>2</td>\n",
              "      <td>0</td>\n",
              "      <td>2</td>\n",
              "      <td>1</td>\n",
              "      <td>2</td>\n",
              "      <td>1</td>\n",
              "      <td>3</td>\n",
              "      <td>0</td>\n",
              "      <td>0</td>\n",
              "      <td>0</td>\n",
              "      <td>200000.0</td>\n",
              "      <td>2024</td>\n",
              "    </tr>\n",
              "    <tr>\n",
              "      <th>19515</th>\n",
              "      <td>2</td>\n",
              "      <td>30</td>\n",
              "      <td>1</td>\n",
              "      <td>1</td>\n",
              "      <td>2</td>\n",
              "      <td>0</td>\n",
              "      <td>6</td>\n",
              "      <td>2</td>\n",
              "      <td>5</td>\n",
              "      <td>3</td>\n",
              "      <td>0</td>\n",
              "      <td>7</td>\n",
              "      <td>2</td>\n",
              "      <td>2</td>\n",
              "      <td>200000.0</td>\n",
              "      <td>2024</td>\n",
              "    </tr>\n",
              "    <tr>\n",
              "      <th>19516</th>\n",
              "      <td>2</td>\n",
              "      <td>9</td>\n",
              "      <td>5</td>\n",
              "      <td>1</td>\n",
              "      <td>1</td>\n",
              "      <td>2</td>\n",
              "      <td>2</td>\n",
              "      <td>2</td>\n",
              "      <td>1</td>\n",
              "      <td>4</td>\n",
              "      <td>0</td>\n",
              "      <td>3</td>\n",
              "      <td>0</td>\n",
              "      <td>0</td>\n",
              "      <td>200000.0</td>\n",
              "      <td>2024</td>\n",
              "    </tr>\n",
              "    <tr>\n",
              "      <th>19517</th>\n",
              "      <td>1</td>\n",
              "      <td>9</td>\n",
              "      <td>5</td>\n",
              "      <td>1</td>\n",
              "      <td>1</td>\n",
              "      <td>2</td>\n",
              "      <td>2</td>\n",
              "      <td>2</td>\n",
              "      <td>1</td>\n",
              "      <td>4</td>\n",
              "      <td>0</td>\n",
              "      <td>3</td>\n",
              "      <td>0</td>\n",
              "      <td>0</td>\n",
              "      <td>200000.0</td>\n",
              "      <td>2024</td>\n",
              "    </tr>\n",
              "  </tbody>\n",
              "</table>\n",
              "<p>19518 rows × 16 columns</p>\n",
              "</div>\n",
              "    <div class=\"colab-df-buttons\">\n",
              "\n",
              "  <div class=\"colab-df-container\">\n",
              "    <button class=\"colab-df-convert\" onclick=\"convertToInteractive('df-e98f09aa-8777-4ccb-9d43-8ad5d67fdc6d')\"\n",
              "            title=\"Convert this dataframe to an interactive table.\"\n",
              "            style=\"display:none;\">\n",
              "\n",
              "  <svg xmlns=\"http://www.w3.org/2000/svg\" height=\"24px\" viewBox=\"0 -960 960 960\">\n",
              "    <path d=\"M120-120v-720h720v720H120Zm60-500h600v-160H180v160Zm220 220h160v-160H400v160Zm0 220h160v-160H400v160ZM180-400h160v-160H180v160Zm440 0h160v-160H620v160ZM180-180h160v-160H180v160Zm440 0h160v-160H620v160Z\"/>\n",
              "  </svg>\n",
              "    </button>\n",
              "\n",
              "  <style>\n",
              "    .colab-df-container {\n",
              "      display:flex;\n",
              "      gap: 12px;\n",
              "    }\n",
              "\n",
              "    .colab-df-convert {\n",
              "      background-color: #E8F0FE;\n",
              "      border: none;\n",
              "      border-radius: 50%;\n",
              "      cursor: pointer;\n",
              "      display: none;\n",
              "      fill: #1967D2;\n",
              "      height: 32px;\n",
              "      padding: 0 0 0 0;\n",
              "      width: 32px;\n",
              "    }\n",
              "\n",
              "    .colab-df-convert:hover {\n",
              "      background-color: #E2EBFA;\n",
              "      box-shadow: 0px 1px 2px rgba(60, 64, 67, 0.3), 0px 1px 3px 1px rgba(60, 64, 67, 0.15);\n",
              "      fill: #174EA6;\n",
              "    }\n",
              "\n",
              "    .colab-df-buttons div {\n",
              "      margin-bottom: 4px;\n",
              "    }\n",
              "\n",
              "    [theme=dark] .colab-df-convert {\n",
              "      background-color: #3B4455;\n",
              "      fill: #D2E3FC;\n",
              "    }\n",
              "\n",
              "    [theme=dark] .colab-df-convert:hover {\n",
              "      background-color: #434B5C;\n",
              "      box-shadow: 0px 1px 3px 1px rgba(0, 0, 0, 0.15);\n",
              "      filter: drop-shadow(0px 1px 2px rgba(0, 0, 0, 0.3));\n",
              "      fill: #FFFFFF;\n",
              "    }\n",
              "  </style>\n",
              "\n",
              "    <script>\n",
              "      const buttonEl =\n",
              "        document.querySelector('#df-e98f09aa-8777-4ccb-9d43-8ad5d67fdc6d button.colab-df-convert');\n",
              "      buttonEl.style.display =\n",
              "        google.colab.kernel.accessAllowed ? 'block' : 'none';\n",
              "\n",
              "      async function convertToInteractive(key) {\n",
              "        const element = document.querySelector('#df-e98f09aa-8777-4ccb-9d43-8ad5d67fdc6d');\n",
              "        const dataTable =\n",
              "          await google.colab.kernel.invokeFunction('convertToInteractive',\n",
              "                                                    [key], {});\n",
              "        if (!dataTable) return;\n",
              "\n",
              "        const docLinkHtml = 'Like what you see? Visit the ' +\n",
              "          '<a target=\"_blank\" href=https://colab.research.google.com/notebooks/data_table.ipynb>data table notebook</a>'\n",
              "          + ' to learn more about interactive tables.';\n",
              "        element.innerHTML = '';\n",
              "        dataTable['output_type'] = 'display_data';\n",
              "        await google.colab.output.renderOutput(dataTable, element);\n",
              "        const docLink = document.createElement('div');\n",
              "        docLink.innerHTML = docLinkHtml;\n",
              "        element.appendChild(docLink);\n",
              "      }\n",
              "    </script>\n",
              "  </div>\n",
              "\n",
              "\n",
              "<div id=\"df-a077eade-af43-4d79-bb84-f7fb2ef08ad6\">\n",
              "  <button class=\"colab-df-quickchart\" onclick=\"quickchart('df-a077eade-af43-4d79-bb84-f7fb2ef08ad6')\"\n",
              "            title=\"Suggest charts\"\n",
              "            style=\"display:none;\">\n",
              "\n",
              "<svg xmlns=\"http://www.w3.org/2000/svg\" height=\"24px\"viewBox=\"0 0 24 24\"\n",
              "     width=\"24px\">\n",
              "    <g>\n",
              "        <path d=\"M19 3H5c-1.1 0-2 .9-2 2v14c0 1.1.9 2 2 2h14c1.1 0 2-.9 2-2V5c0-1.1-.9-2-2-2zM9 17H7v-7h2v7zm4 0h-2V7h2v10zm4 0h-2v-4h2v4z\"/>\n",
              "    </g>\n",
              "</svg>\n",
              "  </button>\n",
              "\n",
              "<style>\n",
              "  .colab-df-quickchart {\n",
              "      --bg-color: #E8F0FE;\n",
              "      --fill-color: #1967D2;\n",
              "      --hover-bg-color: #E2EBFA;\n",
              "      --hover-fill-color: #174EA6;\n",
              "      --disabled-fill-color: #AAA;\n",
              "      --disabled-bg-color: #DDD;\n",
              "  }\n",
              "\n",
              "  [theme=dark] .colab-df-quickchart {\n",
              "      --bg-color: #3B4455;\n",
              "      --fill-color: #D2E3FC;\n",
              "      --hover-bg-color: #434B5C;\n",
              "      --hover-fill-color: #FFFFFF;\n",
              "      --disabled-bg-color: #3B4455;\n",
              "      --disabled-fill-color: #666;\n",
              "  }\n",
              "\n",
              "  .colab-df-quickchart {\n",
              "    background-color: var(--bg-color);\n",
              "    border: none;\n",
              "    border-radius: 50%;\n",
              "    cursor: pointer;\n",
              "    display: none;\n",
              "    fill: var(--fill-color);\n",
              "    height: 32px;\n",
              "    padding: 0;\n",
              "    width: 32px;\n",
              "  }\n",
              "\n",
              "  .colab-df-quickchart:hover {\n",
              "    background-color: var(--hover-bg-color);\n",
              "    box-shadow: 0 1px 2px rgba(60, 64, 67, 0.3), 0 1px 3px 1px rgba(60, 64, 67, 0.15);\n",
              "    fill: var(--button-hover-fill-color);\n",
              "  }\n",
              "\n",
              "  .colab-df-quickchart-complete:disabled,\n",
              "  .colab-df-quickchart-complete:disabled:hover {\n",
              "    background-color: var(--disabled-bg-color);\n",
              "    fill: var(--disabled-fill-color);\n",
              "    box-shadow: none;\n",
              "  }\n",
              "\n",
              "  .colab-df-spinner {\n",
              "    border: 2px solid var(--fill-color);\n",
              "    border-color: transparent;\n",
              "    border-bottom-color: var(--fill-color);\n",
              "    animation:\n",
              "      spin 1s steps(1) infinite;\n",
              "  }\n",
              "\n",
              "  @keyframes spin {\n",
              "    0% {\n",
              "      border-color: transparent;\n",
              "      border-bottom-color: var(--fill-color);\n",
              "      border-left-color: var(--fill-color);\n",
              "    }\n",
              "    20% {\n",
              "      border-color: transparent;\n",
              "      border-left-color: var(--fill-color);\n",
              "      border-top-color: var(--fill-color);\n",
              "    }\n",
              "    30% {\n",
              "      border-color: transparent;\n",
              "      border-left-color: var(--fill-color);\n",
              "      border-top-color: var(--fill-color);\n",
              "      border-right-color: var(--fill-color);\n",
              "    }\n",
              "    40% {\n",
              "      border-color: transparent;\n",
              "      border-right-color: var(--fill-color);\n",
              "      border-top-color: var(--fill-color);\n",
              "    }\n",
              "    60% {\n",
              "      border-color: transparent;\n",
              "      border-right-color: var(--fill-color);\n",
              "    }\n",
              "    80% {\n",
              "      border-color: transparent;\n",
              "      border-right-color: var(--fill-color);\n",
              "      border-bottom-color: var(--fill-color);\n",
              "    }\n",
              "    90% {\n",
              "      border-color: transparent;\n",
              "      border-bottom-color: var(--fill-color);\n",
              "    }\n",
              "  }\n",
              "</style>\n",
              "\n",
              "  <script>\n",
              "    async function quickchart(key) {\n",
              "      const quickchartButtonEl =\n",
              "        document.querySelector('#' + key + ' button');\n",
              "      quickchartButtonEl.disabled = true;  // To prevent multiple clicks.\n",
              "      quickchartButtonEl.classList.add('colab-df-spinner');\n",
              "      try {\n",
              "        const charts = await google.colab.kernel.invokeFunction(\n",
              "            'suggestCharts', [key], {});\n",
              "      } catch (error) {\n",
              "        console.error('Error during call to suggestCharts:', error);\n",
              "      }\n",
              "      quickchartButtonEl.classList.remove('colab-df-spinner');\n",
              "      quickchartButtonEl.classList.add('colab-df-quickchart-complete');\n",
              "    }\n",
              "    (() => {\n",
              "      let quickchartButtonEl =\n",
              "        document.querySelector('#df-a077eade-af43-4d79-bb84-f7fb2ef08ad6 button');\n",
              "      quickchartButtonEl.style.display =\n",
              "        google.colab.kernel.accessAllowed ? 'block' : 'none';\n",
              "    })();\n",
              "  </script>\n",
              "</div>\n",
              "\n",
              "  <div id=\"id_fc8b6d2e-a66c-4727-86b2-7e18efcc8054\">\n",
              "    <style>\n",
              "      .colab-df-generate {\n",
              "        background-color: #E8F0FE;\n",
              "        border: none;\n",
              "        border-radius: 50%;\n",
              "        cursor: pointer;\n",
              "        display: none;\n",
              "        fill: #1967D2;\n",
              "        height: 32px;\n",
              "        padding: 0 0 0 0;\n",
              "        width: 32px;\n",
              "      }\n",
              "\n",
              "      .colab-df-generate:hover {\n",
              "        background-color: #E2EBFA;\n",
              "        box-shadow: 0px 1px 2px rgba(60, 64, 67, 0.3), 0px 1px 3px 1px rgba(60, 64, 67, 0.15);\n",
              "        fill: #174EA6;\n",
              "      }\n",
              "\n",
              "      [theme=dark] .colab-df-generate {\n",
              "        background-color: #3B4455;\n",
              "        fill: #D2E3FC;\n",
              "      }\n",
              "\n",
              "      [theme=dark] .colab-df-generate:hover {\n",
              "        background-color: #434B5C;\n",
              "        box-shadow: 0px 1px 3px 1px rgba(0, 0, 0, 0.15);\n",
              "        filter: drop-shadow(0px 1px 2px rgba(0, 0, 0, 0.3));\n",
              "        fill: #FFFFFF;\n",
              "      }\n",
              "    </style>\n",
              "    <button class=\"colab-df-generate\" onclick=\"generateWithVariable('df_unido')\"\n",
              "            title=\"Generate code using this dataframe.\"\n",
              "            style=\"display:none;\">\n",
              "\n",
              "  <svg xmlns=\"http://www.w3.org/2000/svg\" height=\"24px\"viewBox=\"0 0 24 24\"\n",
              "       width=\"24px\">\n",
              "    <path d=\"M7,19H8.4L18.45,9,17,7.55,7,17.6ZM5,21V16.75L18.45,3.32a2,2,0,0,1,2.83,0l1.4,1.43a1.91,1.91,0,0,1,.58,1.4,1.91,1.91,0,0,1-.58,1.4L9.25,21ZM18.45,9,17,7.55Zm-12,3A5.31,5.31,0,0,0,4.9,8.1,5.31,5.31,0,0,0,1,6.5,5.31,5.31,0,0,0,4.9,4.9,5.31,5.31,0,0,0,6.5,1,5.31,5.31,0,0,0,8.1,4.9,5.31,5.31,0,0,0,12,6.5,5.46,5.46,0,0,0,6.5,12Z\"/>\n",
              "  </svg>\n",
              "    </button>\n",
              "    <script>\n",
              "      (() => {\n",
              "      const buttonEl =\n",
              "        document.querySelector('#id_fc8b6d2e-a66c-4727-86b2-7e18efcc8054 button.colab-df-generate');\n",
              "      buttonEl.style.display =\n",
              "        google.colab.kernel.accessAllowed ? 'block' : 'none';\n",
              "\n",
              "      buttonEl.onclick = () => {\n",
              "        google.colab.notebook.generateWithVariable('df_unido');\n",
              "      }\n",
              "      })();\n",
              "    </script>\n",
              "  </div>\n",
              "\n",
              "    </div>\n",
              "  </div>\n"
            ],
            "application/vnd.google.colaboratory.intrinsic+json": {
              "type": "dataframe",
              "variable_name": "df_unido",
              "summary": "{\n  \"name\": \"df_unido\",\n  \"rows\": 19518,\n  \"fields\": [\n    {\n      \"column\": \"CH04\",\n      \"properties\": {\n        \"dtype\": \"number\",\n        \"std\": 0,\n        \"min\": 1,\n        \"max\": 2,\n        \"num_unique_values\": 2,\n        \"samples\": [\n          1,\n          2\n        ],\n        \"semantic_type\": \"\",\n        \"description\": \"\"\n      }\n    },\n    {\n      \"column\": \"CH06\",\n      \"properties\": {\n        \"dtype\": \"category\",\n        \"num_unique_values\": 100,\n        \"samples\": [\n          88.0,\n          64.0\n        ],\n        \"semantic_type\": \"\",\n        \"description\": \"\"\n      }\n    },\n    {\n      \"column\": \"CH07\",\n      \"properties\": {\n        \"dtype\": \"category\",\n        \"num_unique_values\": 10,\n        \"samples\": [\n          3,\n          \"Unido\"\n        ],\n        \"semantic_type\": \"\",\n        \"description\": \"\"\n      }\n    },\n    {\n      \"column\": \"CH08\",\n      \"properties\": {\n        \"dtype\": \"category\",\n        \"num_unique_values\": 15,\n        \"samples\": [\n          12,\n          3\n        ],\n        \"semantic_type\": \"\",\n        \"description\": \"\"\n      }\n    },\n    {\n      \"column\": \"CH10\",\n      \"properties\": {\n        \"dtype\": \"category\",\n        \"num_unique_values\": 7,\n        \"samples\": [\n          \"No asiste, pero asisti\\u00f3\",\n          \"S\\u00ed, asiste\"\n        ],\n        \"semantic_type\": \"\",\n        \"description\": \"\"\n      }\n    },\n    {\n      \"column\": \"CH11\",\n      \"properties\": {\n        \"dtype\": \"category\",\n        \"num_unique_values\": 6,\n        \"samples\": [\n          0.0,\n          \"P\\u00fablico\"\n        ],\n        \"semantic_type\": \"\",\n        \"description\": \"\"\n      }\n    },\n    {\n      \"column\": \"CH12\",\n      \"properties\": {\n        \"dtype\": \"category\",\n        \"num_unique_values\": 19,\n        \"samples\": [\n          \"Primario\",\n          \"Jard\\u00edn/Preescolar\"\n        ],\n        \"semantic_type\": \"\",\n        \"description\": \"\"\n      }\n    },\n    {\n      \"column\": \"CH13\",\n      \"properties\": {\n        \"dtype\": \"category\",\n        \"num_unique_values\": 6,\n        \"samples\": [\n          \"S\\u00ed\",\n          \"No\"\n        ],\n        \"semantic_type\": \"\",\n        \"description\": \"\"\n      }\n    },\n    {\n      \"column\": \"NIVEL_ED\",\n      \"properties\": {\n        \"dtype\": \"category\",\n        \"num_unique_values\": 14,\n        \"samples\": [\n          5,\n          6\n        ],\n        \"semantic_type\": \"\",\n        \"description\": \"\"\n      }\n    },\n    {\n      \"column\": \"ESTADO\",\n      \"properties\": {\n        \"dtype\": \"category\",\n        \"num_unique_values\": 10,\n        \"samples\": [\n          2,\n          \"Desocupado\"\n        ],\n        \"semantic_type\": \"\",\n        \"description\": \"\"\n      }\n    },\n    {\n      \"column\": \"CAT_OCUP\",\n      \"properties\": {\n        \"dtype\": \"category\",\n        \"num_unique_values\": 9,\n        \"samples\": [\n          4,\n          \"Cuenta propia\"\n        ],\n        \"semantic_type\": \"\",\n        \"description\": \"\"\n      }\n    },\n    {\n      \"column\": \"CAT_INAC\",\n      \"properties\": {\n        \"dtype\": \"category\",\n        \"num_unique_values\": 15,\n        \"samples\": [\n          3,\n          4\n        ],\n        \"semantic_type\": \"\",\n        \"description\": \"\"\n      }\n    },\n    {\n      \"column\": \"PP02H\",\n      \"properties\": {\n        \"dtype\": \"category\",\n        \"num_unique_values\": 5,\n        \"samples\": [\n          0.0,\n          2\n        ],\n        \"semantic_type\": \"\",\n        \"description\": \"\"\n      }\n    },\n    {\n      \"column\": \"PP02I\",\n      \"properties\": {\n        \"dtype\": \"category\",\n        \"num_unique_values\": 5,\n        \"samples\": [\n          0.0,\n          1\n        ],\n        \"semantic_type\": \"\",\n        \"description\": \"\"\n      }\n    },\n    {\n      \"column\": \"IPCF\",\n      \"properties\": {\n        \"dtype\": \"number\",\n        \"std\": 219738.62279022703,\n        \"min\": 0.0,\n        \"max\": 4340200.0,\n        \"num_unique_values\": 2035,\n        \"samples\": [\n          243.75,\n          45.0\n        ],\n        \"semantic_type\": \"\",\n        \"description\": \"\"\n      }\n    },\n    {\n      \"column\": \"ANO4\",\n      \"properties\": {\n        \"dtype\": \"number\",\n        \"std\": 9,\n        \"min\": 2004,\n        \"max\": 2024,\n        \"num_unique_values\": 2,\n        \"samples\": [\n          2024,\n          2004\n        ],\n        \"semantic_type\": \"\",\n        \"description\": \"\"\n      }\n    }\n  ]\n}"
            }
          },
          "metadata": {}
        }
      ],
      "source": [
        "#usamos display para observar que se hayan unido correctamente\n",
        "display(df_unido)"
      ]
    },
    {
      "cell_type": "code",
      "execution_count": 42,
      "id": "900c620b-7fc8-42d2-b5a3-07ed6fd660d8",
      "metadata": {
        "id": "900c620b-7fc8-42d2-b5a3-07ed6fd660d8"
      },
      "outputs": [],
      "source": [
        "#exportamos como un excel para corroborar que los datos y las columnas estén bien distribuidas\n",
        "df_unido.to_excel(\"df_unido.xlsx\", index=False)"
      ]
    },
    {
      "cell_type": "code",
      "execution_count": 49,
      "id": "5171b8c5-bdf6-4ef6-9f59-5fd2e486be2d",
      "metadata": {
        "jupyter": {
          "source_hidden": true
        },
        "id": "5171b8c5-bdf6-4ef6-9f59-5fd2e486be2d"
      },
      "outputs": [],
      "source": [
        "###Las variables elegidas y su significado según el \"Diseño de Registro y Estructura para las bases de Microdatos\"\n",
        "#Variable Significado\n",
        "#CH04\tSexo\n",
        "#CH06\tEdad\n",
        "#CH07\tEstado civil\n",
        "#CH08\tCobertura médica\n",
        "#CH10\tAsistencia establecimiento educativo\n",
        "#CH11\tTipo de establecimiento\n",
        "#CH12\tNivel más alto completado\n",
        "#CH13\t¿Finalizó?\n",
        "#NIVEL_ED\tNivel educativo\n",
        "#ESTADO\tCondición de actividad (ocupado, desocupado, inactivo)\n",
        "#CAT_OCUP\tCategoría ocupacional\n",
        "#CAT_INAC\tCategoría de inactividad\n",
        "#PP02H\tEn los últimos 12 meses ¿buscó trabajo en algún momento?\n",
        "#PP02I\tEn los últimos 12 meses ¿trabajó en algún momento?\n",
        "#P47T\tIngreso total individual"
      ]
    },
    {
      "cell_type": "code",
      "execution_count": 50,
      "id": "79cc13f9-7920-4ad1-a0b4-16d586a8ddd8",
      "metadata": {
        "id": "79cc13f9-7920-4ad1-a0b4-16d586a8ddd8",
        "outputId": "cf3e5e55-b36c-4ead-d225-afef1bd24510",
        "colab": {
          "base_uri": "https://localhost:8080/"
        }
      },
      "outputs": [
        {
          "output_type": "stream",
          "name": "stdout",
          "text": [
            "      CH04  CH06  CH07  CH08  CH10  CH11  CH12  CH13  NIVEL_ED  ESTADO  \\\n",
            "ANO4                                                                     \n",
            "2004     0     0     0     0     0     0     0     0         0       0   \n",
            "2024     0     0     0     0     0     0     0     0         0       0   \n",
            "\n",
            "      CAT_OCUP  CAT_INAC  PP02H  PP02I  IPCF  \n",
            "ANO4                                          \n",
            "2004         0         0      0      0     0  \n",
            "2024         0         0      0      0     0  \n"
          ]
        }
      ],
      "source": [
        "#usamos un count para saber cuántos datos son NaN\n",
        "nan_count_by_year = df_unido.groupby(\"ANO4\")[variables_interes].apply(lambda x: x.isna().sum())\n",
        "\n",
        "print(nan_count_by_year)"
      ]
    },
    {
      "cell_type": "code",
      "execution_count": 51,
      "id": "1144a735-3063-4c35-a24b-54254ad89b5b",
      "metadata": {
        "id": "1144a735-3063-4c35-a24b-54254ad89b5b"
      },
      "outputs": [],
      "source": [
        "### Se puede observar que en todas las categorías utilizadas no hay resultados faltantes."
      ]
    },
    {
      "cell_type": "code",
      "execution_count": 56,
      "id": "c5b7facb-494e-4fd4-82fe-41c3b7ff1853",
      "metadata": {
        "id": "c5b7facb-494e-4fd4-82fe-41c3b7ff1853"
      },
      "outputs": [],
      "source": [
        "#Parte II: Primer Análisis Exploratorio"
      ]
    },
    {
      "cell_type": "code",
      "execution_count": 55,
      "id": "ca2fdea2-f19f-4f08-8d9e-256db0cf1a2b",
      "metadata": {
        "id": "ca2fdea2-f19f-4f08-8d9e-256db0cf1a2b"
      },
      "outputs": [],
      "source": [
        "#PUNTO 3"
      ]
    },
    {
      "cell_type": "code",
      "execution_count": 52,
      "id": "04f3d2c9-b727-42af-b834-5fb88a9a09ae",
      "metadata": {
        "id": "04f3d2c9-b727-42af-b834-5fb88a9a09ae"
      },
      "outputs": [],
      "source": [
        "import matplotlib.pyplot as plt"
      ]
    },
    {
      "cell_type": "code",
      "execution_count": 53,
      "id": "81d17a58-acb1-42db-a2b2-3d7b2cf84d48",
      "metadata": {
        "id": "81d17a58-acb1-42db-a2b2-3d7b2cf84d48"
      },
      "outputs": [],
      "source": [
        "import seaborn as sns"
      ]
    },
    {
      "cell_type": "code",
      "execution_count": 54,
      "id": "458ca338-6459-48a8-afda-771870be6039",
      "metadata": {
        "id": "458ca338-6459-48a8-afda-771870be6039"
      },
      "outputs": [],
      "source": [
        "import numpy as np"
      ]
    },
    {
      "cell_type": "code",
      "execution_count": 57,
      "id": "48aa98c4-0103-4f32-aa75-07fb63d4c5cf",
      "metadata": {
        "id": "48aa98c4-0103-4f32-aa75-07fb63d4c5cf"
      },
      "outputs": [],
      "source": [
        "#Instalamos la biblioteca de matplot y seaborn para poder realizar gráficos visualmente agradables siguiendo las recomendaciones de Schwabish."
      ]
    },
    {
      "cell_type": "code",
      "execution_count": 58,
      "id": "3836de30-c1a3-421f-aefd-9e823deccda7",
      "metadata": {
        "id": "3836de30-c1a3-421f-aefd-9e823deccda7",
        "outputId": "f0eb0042-fed8-448f-cecd-fe65ba292897",
        "colab": {
          "base_uri": "https://localhost:8080/",
          "height": 507
        }
      },
      "outputs": [
        {
          "output_type": "display_data",
          "data": {
            "text/plain": [
              "<Figure size 1200x500 with 1 Axes>"
            ],
            "image/png": "[encoded data removed]"
          },
          "metadata": {}
        }
      ],
      "source": [
        "df_2004 = df_unido[df_unido[\"ANO4\"] == 2004].copy()\n",
        "df_2024 = df_unido[df_unido[\"ANO4\"] == 2024].copy()\n",
        "\n",
        "# Normalizar etiquetas\n",
        "df_2004[\"SEXO\"] = df_2004[\"CH04\"].replace({1: \"Hombres\", 2: \"Mujeres\"})\n",
        "df_2024[\"SEXO\"] = df_2024[\"CH04\"].replace({1: \"Hombres\", 2: \"Mujeres\"})\n",
        "\n",
        "# Conteo por sexo\n",
        "count_2004 = df_2004[\"SEXO\"].value_counts().reindex([\"Mujeres\", \"Hombres\"], fill_value=0)\n",
        "count_2024 = df_2024[\"SEXO\"].value_counts().reindex([\"Mujeres\", \"Hombres\"], fill_value=0)\n",
        "\n",
        "# Configurar posiciones y tamaño\n",
        "labels = ['Mujeres', 'Hombres']\n",
        "y = np.arange(len(labels))\n",
        "width = 0.35  # separación de barras\n",
        "\n",
        "fig, ax = plt.subplots(figsize=(12, 5))\n",
        "\n",
        "# Barras\n",
        "bar1 = ax.barh(y - width/2, count_2004.values, height=width, label='2004', color='#fbb4ae')\n",
        "bar2 = ax.barh(y + width/2, count_2024.values, height=width, label='2024', color='#8da0cb')\n",
        "\n",
        "# Etiquetas y estética\n",
        "ax.set_xlabel('Cantidad de personas')\n",
        "ax.set_title('Composición por sexo - Región NOA (2004 vs 2024)', fontsize=13, weight='bold')\n",
        "ax.set_yticks(y)\n",
        "ax.set_yticklabels(labels)\n",
        "ax.set_xlim(0, 6000)\n",
        "ax.invert_yaxis()  # primero Mujeres, luego Hombres\n",
        "ax.legend(loc='lower right')\n",
        "\n",
        "# Agregar números directamente sobre las barras\n",
        "for bars in [bar1, bar2]:\n",
        "    for bar in bars:\n",
        "        width = bar.get_width()\n",
        "        ax.text(width + 100, bar.get_y() + bar.get_height()/2,\n",
        "                f'{int(width):,}', va='center', fontsize=10)\n",
        "\n",
        "plt.tight_layout()\n",
        "plt.show()"
      ]
    },
    {
      "cell_type": "code",
      "execution_count": 59,
      "id": "8eb13128-dc25-43c4-a21b-1df1631cd4a7",
      "metadata": {
        "id": "8eb13128-dc25-43c4-a21b-1df1631cd4a7"
      },
      "outputs": [],
      "source": [
        "#PUNTO 4"
      ]
    },
    {
      "cell_type": "code",
      "execution_count": 60,
      "id": "7d23966f-890e-4b4a-8449-ea4b5b8e6b07",
      "metadata": {
        "id": "7d23966f-890e-4b4a-8449-ea4b5b8e6b07",
        "outputId": "0f0e70e7-d68f-4765-f831-b4786319aeeb",
        "colab": {
          "base_uri": "https://localhost:8080/",
          "height": 1000
        }
      },
      "outputs": [
        {
          "output_type": "display_data",
          "data": {
            "text/plain": [
              "<Figure size 1000x800 with 2 Axes>"
            ],
            "image/png": "[encoded data removed]"
          },
          "metadata": {}
        },
        {
          "output_type": "display_data",
          "data": {
            "text/plain": [
              "<Figure size 1000x800 with 2 Axes>"
            ],
            "image/png": "[encoded data removed]"
          },
          "metadata": {}
        }
      ],
      "source": [
        "# Lista de variables que nos interesan\n",
        "variables = ['CH04', 'CH06', 'CH07', 'CH08', 'NIVEL_ED', 'ESTADO', 'CAT_INAC', 'IPCF']\n",
        "\n",
        "# Filtrar año 2004\n",
        "df_2004 = df_unido[df_unido[\"ANO4\"] == 2004]\n",
        "df_2024 = df_unido[df_unido[\"ANO4\"] == 2024]\n",
        "\n",
        "# Asegurarse que 2004 sea numérico\n",
        "df_corr_2004 = df_2004[variables].apply(pd.to_numeric, errors='coerce')\n",
        "\n",
        "# En 2024 ya son numéricas, se puede usar directamente\n",
        "df_corr_2024 = df_2024[variables]\n",
        "\n",
        "# Matriz de correlación 2004\n",
        "corr_2004 = df_corr_2004.corr()\n",
        "\n",
        "plt.figure(figsize=(10, 8))\n",
        "sns.heatmap(corr_2004, annot=True, cmap='coolwarm', vmin=-1, vmax=1)\n",
        "plt.title('Matriz de Correlación - 2004')\n",
        "plt.show()\n",
        "\n",
        "# Matriz de correlación 2024\n",
        "corr_2024 = df_corr_2024.corr()\n",
        "\n",
        "plt.figure(figsize=(10, 8))\n",
        "sns.heatmap(corr_2024, annot=True, cmap='coolwarm', vmin=-1, vmax=1)\n",
        "plt.title('Matriz de Correlación - 2024')\n",
        "plt.show()"
      ]
    },
    {
      "cell_type": "code",
      "execution_count": null,
      "id": "c5c50cdc-4252-4b5e-8c8d-168ff29d9f19",
      "metadata": {
        "id": "c5c50cdc-4252-4b5e-8c8d-168ff29d9f19"
      },
      "outputs": [],
      "source": []
    }
  ],
  "metadata": {
    "kernelspec": {
      "display_name": "Python [conda env:base] *",
      "language": "python",
      "name": "conda-base-py"
    },
    "language_info": {
      "codemirror_mode": {
        "name": "ipython",
        "version": 3
      },
      "file_extension": ".py",
      "mimetype": "text/x-python",
      "name": "python",
      "nbconvert_exporter": "python",
      "pygments_lexer": "ipython3",
      "version": "3.12.7"
    },
    "colab": {
      "provenance": []
    }
  },
  "nbformat": 4,
  "nbformat_minor": 5
}